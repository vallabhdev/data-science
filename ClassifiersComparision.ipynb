{
 "cells": [
  {
   "cell_type": "code",
   "execution_count": 180,
   "id": "a311934b",
   "metadata": {},
   "outputs": [
    {
     "data": {
      "text/html": [
       "<img src=\"https://mma.prnewswire.com/media/902446/Loyalist_College_Loyalist_College_to_launch_Canada_s_first_Techn.jpg?p=facebook\"/>"
      ],
      "text/plain": [
       "<IPython.core.display.Image object>"
      ]
     },
     "execution_count": 180,
     "metadata": {},
     "output_type": "execute_result"
    }
   ],
   "source": [
    "from IPython.display import Image\n",
    "from IPython.core.display import HTML \n",
    "Image(url= \"https://mma.prnewswire.com/media/902446/Loyalist_College_Loyalist_College_to_launch_Canada_s_first_Techn.jpg?p=facebook\")"
   ]
  },
  {
   "cell_type": "markdown",
   "id": "1e3e1a03",
   "metadata": {},
   "source": [
    "# <p style='text-align: center;'>AISC2000 - Machine Learning 2 - Application Exercise 2 </p>\n",
    "### <p style='text-align: center;'>By Group A </p>\n",
    "\n",
    "### <p style='text-align: center;'>Classification models and its performance: </p>\n",
    "#### <p style='text-align: center;'>Logistic Regression vs Decision Tree vs Random Forest </p>"
   ]
  },
  {
   "cell_type": "markdown",
   "id": "7cc6a156",
   "metadata": {},
   "source": [
    "<p style='text-align: center;'>===================================================================================================== </p>"
   ]
  },
  {
   "cell_type": "markdown",
   "id": "c5f5b7d0",
   "metadata": {},
   "source": [
    "## <p style='text-align: center;'>Group members and their contribution details </p>"
   ]
  },
  {
   "cell_type": "code",
   "execution_count": 181,
   "id": "ca30ce23",
   "metadata": {},
   "outputs": [
    {
     "data": {
      "text/html": [
       "<style type=\"text/css\">\n",
       "</style>\n",
       "<table id=\"T_97c4a_\">\n",
       "  <caption>Group-A Members' Contribution:</caption>\n",
       "  <thead>\n",
       "    <tr>\n",
       "      <th class=\"blank level0\" >&nbsp;</th>\n",
       "      <th class=\"col_heading level0 col0\" >Name</th>\n",
       "      <th class=\"col_heading level0 col1\" >Student_ID</th>\n",
       "      <th class=\"col_heading level0 col2\" >Contribution (in %)</th>\n",
       "    </tr>\n",
       "  </thead>\n",
       "  <tbody>\n",
       "    <tr>\n",
       "      <th id=\"T_97c4a_level0_row0\" class=\"row_heading level0 row0\" >0</th>\n",
       "      <td id=\"T_97c4a_row0_col0\" class=\"data row0 col0\" >Prachi</td>\n",
       "      <td id=\"T_97c4a_row0_col1\" class=\"data row0 col1\" >500204185</td>\n",
       "      <td id=\"T_97c4a_row0_col2\" class=\"data row0 col2\" >16.66</td>\n",
       "    </tr>\n",
       "    <tr>\n",
       "      <th id=\"T_97c4a_level0_row1\" class=\"row_heading level0 row1\" >1</th>\n",
       "      <td id=\"T_97c4a_row1_col0\" class=\"data row1 col0\" >Vishal</td>\n",
       "      <td id=\"T_97c4a_row1_col1\" class=\"data row1 col1\" >500203819</td>\n",
       "      <td id=\"T_97c4a_row1_col2\" class=\"data row1 col2\" >16.66</td>\n",
       "    </tr>\n",
       "    <tr>\n",
       "      <th id=\"T_97c4a_level0_row2\" class=\"row_heading level0 row2\" >2</th>\n",
       "      <td id=\"T_97c4a_row2_col0\" class=\"data row2 col0\" >Jinal Shashikantbhai Barot</td>\n",
       "      <td id=\"T_97c4a_row2_col1\" class=\"data row2 col1\" >500198288</td>\n",
       "      <td id=\"T_97c4a_row2_col2\" class=\"data row2 col2\" >16.66</td>\n",
       "    </tr>\n",
       "    <tr>\n",
       "      <th id=\"T_97c4a_level0_row3\" class=\"row_heading level0 row3\" >3</th>\n",
       "      <td id=\"T_97c4a_row3_col0\" class=\"data row3 col0\" >Tajdar Unnisa Begum</td>\n",
       "      <td id=\"T_97c4a_row3_col1\" class=\"data row3 col1\" >500201392</td>\n",
       "      <td id=\"T_97c4a_row3_col2\" class=\"data row3 col2\" >16.66</td>\n",
       "    </tr>\n",
       "    <tr>\n",
       "      <th id=\"T_97c4a_level0_row4\" class=\"row_heading level0 row4\" >4</th>\n",
       "      <td id=\"T_97c4a_row4_col0\" class=\"data row4 col0\" >Harshil Patel</td>\n",
       "      <td id=\"T_97c4a_row4_col1\" class=\"data row4 col1\" >500202876</td>\n",
       "      <td id=\"T_97c4a_row4_col2\" class=\"data row4 col2\" >16.66</td>\n",
       "    </tr>\n",
       "    <tr>\n",
       "      <th id=\"T_97c4a_level0_row5\" class=\"row_heading level0 row5\" >5</th>\n",
       "      <td id=\"T_97c4a_row5_col0\" class=\"data row5 col0\" >Prateek Kumar Soni</td>\n",
       "      <td id=\"T_97c4a_row5_col1\" class=\"data row5 col1\" >500203815</td>\n",
       "      <td id=\"T_97c4a_row5_col2\" class=\"data row5 col2\" >16.66</td>\n",
       "    </tr>\n",
       "  </tbody>\n",
       "</table>\n"
      ],
      "text/plain": [
       "<pandas.io.formats.style.Styler at 0x1b2963bb760>"
      ]
     },
     "execution_count": 181,
     "metadata": {},
     "output_type": "execute_result"
    }
   ],
   "source": [
    "import pandas as pd\n",
    "# assign data of lists.\n",
    "data = {'Name': ['Prachi', 'Vishal', 'Jinal Shashikantbhai Barot', 'Tajdar Unnisa Begum', 'Harshil Patel', 'Prateek Kumar Soni'],\n",
    "        'Student_ID': [500204185, 500203819 , 500198288 , 500201392 , 500202876 , 500203815],\n",
    "        'Contribution (in %)':['16.66', '16.66', '16.66', '16.66','16.66', '16.66' ]}\n",
    "# Create DataFrame.\n",
    "df = pd.DataFrame(data)\n",
    "# Set the title and Print the dataframe.\n",
    "df = df.style.set_caption(\"Group-A Members' Contribution:\")\n",
    "df"
   ]
  },
  {
   "cell_type": "markdown",
   "id": "dfdbe8a1",
   "metadata": {},
   "source": [
    "<p style='text-align: center;'>===================================================================================================== </p>"
   ]
  },
  {
   "cell_type": "markdown",
   "id": "6953c3fd",
   "metadata": {},
   "source": [
    "### <p style= 'text-align: center;'> Question 1 - Import libraries, modules and methods </p>"
   ]
  },
  {
   "cell_type": "code",
   "execution_count": 182,
   "id": "0e9e19be",
   "metadata": {},
   "outputs": [],
   "source": [
    "#import pandas as pd  # ALready imported to display group members names and ID\n",
    "import numpy as np\n",
    "import seaborn as sns\n",
    "import matplotlib.pyplot as plt\n",
    "from sklearn.model_selection import train_test_split\n",
    "from sklearn import linear_model\n",
    "from sklearn import metrics\n",
    "from sklearn.ensemble import RandomForestClassifier\n",
    "from sklearn.tree import DecisionTreeClassifier"
   ]
  },
  {
   "cell_type": "markdown",
   "id": "946e46cc",
   "metadata": {},
   "source": [
    "<p style='text-align: center;'>===================================================================================================== </p>"
   ]
  },
  {
   "cell_type": "markdown",
   "id": "7dc7b774",
   "metadata": {},
   "source": [
    "### <p style= 'text-align: center;'> Question 2 - Read data and understand data </p>"
   ]
  },
  {
   "cell_type": "markdown",
   "id": "7c2e5bc5",
   "metadata": {},
   "source": [
    "**Read csv file and Explore the dataset**"
   ]
  },
  {
   "cell_type": "code",
   "execution_count": 183,
   "id": "0814c78d",
   "metadata": {},
   "outputs": [
    {
     "data": {
      "text/html": [
       "<div>\n",
       "<style scoped>\n",
       "    .dataframe tbody tr th:only-of-type {\n",
       "        vertical-align: middle;\n",
       "    }\n",
       "\n",
       "    .dataframe tbody tr th {\n",
       "        vertical-align: top;\n",
       "    }\n",
       "\n",
       "    .dataframe thead th {\n",
       "        text-align: right;\n",
       "    }\n",
       "</style>\n",
       "<table border=\"1\" class=\"dataframe\">\n",
       "  <thead>\n",
       "    <tr style=\"text-align: right;\">\n",
       "      <th></th>\n",
       "      <th>Loan_ID</th>\n",
       "      <th>Gender</th>\n",
       "      <th>Married</th>\n",
       "      <th>Dependents</th>\n",
       "      <th>Education</th>\n",
       "      <th>Self_Employed</th>\n",
       "      <th>ApplicantIncome</th>\n",
       "      <th>CoapplicantIncome</th>\n",
       "      <th>LoanAmount</th>\n",
       "      <th>Loan_Amount_Term</th>\n",
       "      <th>Credit_History</th>\n",
       "      <th>Property_Area</th>\n",
       "      <th>Loan_Status</th>\n",
       "    </tr>\n",
       "  </thead>\n",
       "  <tbody>\n",
       "    <tr>\n",
       "      <th>0</th>\n",
       "      <td>LP001002</td>\n",
       "      <td>Male</td>\n",
       "      <td>No</td>\n",
       "      <td>0</td>\n",
       "      <td>Graduate</td>\n",
       "      <td>No</td>\n",
       "      <td>5849</td>\n",
       "      <td>0.0</td>\n",
       "      <td>NaN</td>\n",
       "      <td>360.0</td>\n",
       "      <td>1.0</td>\n",
       "      <td>Urban</td>\n",
       "      <td>Y</td>\n",
       "    </tr>\n",
       "    <tr>\n",
       "      <th>1</th>\n",
       "      <td>LP001003</td>\n",
       "      <td>Male</td>\n",
       "      <td>Yes</td>\n",
       "      <td>1</td>\n",
       "      <td>Graduate</td>\n",
       "      <td>No</td>\n",
       "      <td>4583</td>\n",
       "      <td>1508.0</td>\n",
       "      <td>128.0</td>\n",
       "      <td>360.0</td>\n",
       "      <td>1.0</td>\n",
       "      <td>Rural</td>\n",
       "      <td>N</td>\n",
       "    </tr>\n",
       "    <tr>\n",
       "      <th>2</th>\n",
       "      <td>LP001005</td>\n",
       "      <td>Male</td>\n",
       "      <td>Yes</td>\n",
       "      <td>0</td>\n",
       "      <td>Graduate</td>\n",
       "      <td>Yes</td>\n",
       "      <td>3000</td>\n",
       "      <td>0.0</td>\n",
       "      <td>66.0</td>\n",
       "      <td>360.0</td>\n",
       "      <td>1.0</td>\n",
       "      <td>Urban</td>\n",
       "      <td>Y</td>\n",
       "    </tr>\n",
       "    <tr>\n",
       "      <th>3</th>\n",
       "      <td>LP001006</td>\n",
       "      <td>Male</td>\n",
       "      <td>Yes</td>\n",
       "      <td>0</td>\n",
       "      <td>Not Graduate</td>\n",
       "      <td>No</td>\n",
       "      <td>2583</td>\n",
       "      <td>2358.0</td>\n",
       "      <td>120.0</td>\n",
       "      <td>360.0</td>\n",
       "      <td>1.0</td>\n",
       "      <td>Urban</td>\n",
       "      <td>Y</td>\n",
       "    </tr>\n",
       "    <tr>\n",
       "      <th>4</th>\n",
       "      <td>LP001008</td>\n",
       "      <td>Male</td>\n",
       "      <td>No</td>\n",
       "      <td>0</td>\n",
       "      <td>Graduate</td>\n",
       "      <td>No</td>\n",
       "      <td>6000</td>\n",
       "      <td>0.0</td>\n",
       "      <td>141.0</td>\n",
       "      <td>360.0</td>\n",
       "      <td>1.0</td>\n",
       "      <td>Urban</td>\n",
       "      <td>Y</td>\n",
       "    </tr>\n",
       "  </tbody>\n",
       "</table>\n",
       "</div>"
      ],
      "text/plain": [
       "    Loan_ID Gender Married Dependents     Education Self_Employed  \\\n",
       "0  LP001002   Male      No          0      Graduate            No   \n",
       "1  LP001003   Male     Yes          1      Graduate            No   \n",
       "2  LP001005   Male     Yes          0      Graduate           Yes   \n",
       "3  LP001006   Male     Yes          0  Not Graduate            No   \n",
       "4  LP001008   Male      No          0      Graduate            No   \n",
       "\n",
       "   ApplicantIncome  CoapplicantIncome  LoanAmount  Loan_Amount_Term  \\\n",
       "0             5849                0.0         NaN             360.0   \n",
       "1             4583             1508.0       128.0             360.0   \n",
       "2             3000                0.0        66.0             360.0   \n",
       "3             2583             2358.0       120.0             360.0   \n",
       "4             6000                0.0       141.0             360.0   \n",
       "\n",
       "   Credit_History Property_Area Loan_Status  \n",
       "0             1.0         Urban           Y  \n",
       "1             1.0         Rural           N  \n",
       "2             1.0         Urban           Y  \n",
       "3             1.0         Urban           Y  \n",
       "4             1.0         Urban           Y  "
      ]
     },
     "execution_count": 183,
     "metadata": {},
     "output_type": "execute_result"
    }
   ],
   "source": [
    "df = pd.read_csv('LoanTrain.csv')\n",
    "df.head()"
   ]
  },
  {
   "cell_type": "markdown",
   "id": "4b469859",
   "metadata": {},
   "source": [
    "Here we are reading the dataset as a dataframe using **read_csv** function from pandas.\n",
    "\n",
    "**head()** function of dataframe provides first five records from the dataframe along with the headers/attribute names that gives idea about following:\n",
    "\n",
    "**What type of data the dataset contains? What it is all about?**\n",
    "In this case, it clearly depicts that we are given loan dataset and each record represents a unique loan application.\n",
    "\n",
    "**What different features this dataset has?**\n",
    "It provides all the columns of the dataset that shows what kind of features each record has and help us in understanding about it. Here, each feature is the information for a particular loan application identified by the Loan_ID. \n",
    "Also, we can see what type of values different columns is having in this loan dataset. Like numerical columns - ApplicantIncome, CoapplicantIncome, LoanAmount, Loan_Amount_Term, Credit_History, loan amount & term, while there are other categorical attributes such as Gender, Married, Dependents, Self_Employed, Education, Property_Area & Loan_Status."
   ]
  },
  {
   "cell_type": "markdown",
   "id": "1c713aff",
   "metadata": {},
   "source": [
    "**Check the columns**"
   ]
  },
  {
   "cell_type": "code",
   "execution_count": 184,
   "id": "e11ac370",
   "metadata": {},
   "outputs": [
    {
     "data": {
      "text/plain": [
       "Index(['Loan_ID', 'Gender', 'Married', 'Dependents', 'Education',\n",
       "       'Self_Employed', 'ApplicantIncome', 'CoapplicantIncome', 'LoanAmount',\n",
       "       'Loan_Amount_Term', 'Credit_History', 'Property_Area', 'Loan_Status'],\n",
       "      dtype='object')"
      ]
     },
     "execution_count": 184,
     "metadata": {},
     "output_type": "execute_result"
    }
   ],
   "source": [
    "df.columns"
   ]
  },
  {
   "cell_type": "markdown",
   "id": "a3a35068",
   "metadata": {},
   "source": [
    "This Loan dataset has **13 different attributes** containing following information about the loan application and the applicant.\n",
    "\n",
    "* Personal information of applicant like Gender, Marital status, No of  Dependents, Education level(Graduate or not), Property Area whether its located in Urban or Rural area as it is one of the main thing to be considered for predicting property's resell value in case required\n",
    "\n",
    "* Employment details of applicant like Self Employed or not, ApplicantIncome to consider requested Loan Amount\n",
    "\n",
    "* Other details of applicant like Credit History for identifying background history of applicant's financial debts, Coapplicant Income for security and reference purpose\n",
    "\n",
    "* Loan details like Requested Loan_ID that uniquely identify one loan application from the system, Requested Loan Amount, Loan Amount Term, LoanStatus whether the loan application is approved or not"
   ]
  },
  {
   "cell_type": "markdown",
   "id": "0e5e7c5e",
   "metadata": {},
   "source": [
    "**Datatype of the columns**"
   ]
  },
  {
   "cell_type": "code",
   "execution_count": 185,
   "id": "cc0f77a5",
   "metadata": {},
   "outputs": [
    {
     "data": {
      "text/plain": [
       "Loan_ID               object\n",
       "Gender                object\n",
       "Married               object\n",
       "Dependents            object\n",
       "Education             object\n",
       "Self_Employed         object\n",
       "ApplicantIncome        int64\n",
       "CoapplicantIncome    float64\n",
       "LoanAmount           float64\n",
       "Loan_Amount_Term     float64\n",
       "Credit_History       float64\n",
       "Property_Area         object\n",
       "Loan_Status           object\n",
       "dtype: object"
      ]
     },
     "execution_count": 185,
     "metadata": {},
     "output_type": "execute_result"
    }
   ],
   "source": [
    "df.dtypes"
   ]
  },
  {
   "cell_type": "markdown",
   "id": "b4660041",
   "metadata": {},
   "source": [
    "In this given dataset, we have 5 numeric columns (ApplicantIncome, CoapplicantIncome, LoanAmount, Loan_Amount_Term, Credit_History) and rest all other are objects, which could be categorical in nature."
   ]
  },
  {
   "cell_type": "markdown",
   "id": "85febaef",
   "metadata": {},
   "source": [
    "**NOTE** :\n",
    "Below is another way of checking the data type of each columns using **info()** function which gives additional details like counts of non-null records in each column."
   ]
  },
  {
   "cell_type": "code",
   "execution_count": 186,
   "id": "dae08f72",
   "metadata": {},
   "outputs": [
    {
     "name": "stdout",
     "output_type": "stream",
     "text": [
      "<class 'pandas.core.frame.DataFrame'>\n",
      "RangeIndex: 614 entries, 0 to 613\n",
      "Data columns (total 13 columns):\n",
      " #   Column             Non-Null Count  Dtype  \n",
      "---  ------             --------------  -----  \n",
      " 0   Loan_ID            614 non-null    object \n",
      " 1   Gender             601 non-null    object \n",
      " 2   Married            611 non-null    object \n",
      " 3   Dependents         599 non-null    object \n",
      " 4   Education          614 non-null    object \n",
      " 5   Self_Employed      582 non-null    object \n",
      " 6   ApplicantIncome    614 non-null    int64  \n",
      " 7   CoapplicantIncome  614 non-null    float64\n",
      " 8   LoanAmount         592 non-null    float64\n",
      " 9   Loan_Amount_Term   600 non-null    float64\n",
      " 10  Credit_History     564 non-null    float64\n",
      " 11  Property_Area      614 non-null    object \n",
      " 12  Loan_Status        614 non-null    object \n",
      "dtypes: float64(4), int64(1), object(8)\n",
      "memory usage: 62.5+ KB\n"
     ]
    }
   ],
   "source": [
    "df.info()"
   ]
  },
  {
   "cell_type": "markdown",
   "id": "0a171317",
   "metadata": {},
   "source": [
    "**info()** function gives us a summary of the dataset that contains column names, count of non-null values for each column and the datatype of each column. It provides total number of records and columns of the dataset.\n",
    "\n",
    "Also, it gives total number of columns of each type.\n",
    "For the given dataset, we have 4 columns with float64, 1 column with int64, and 8 columns with object datatype."
   ]
  },
  {
   "cell_type": "code",
   "execution_count": 187,
   "id": "58723e6b",
   "metadata": {},
   "outputs": [
    {
     "data": {
      "text/html": [
       "<div>\n",
       "<style scoped>\n",
       "    .dataframe tbody tr th:only-of-type {\n",
       "        vertical-align: middle;\n",
       "    }\n",
       "\n",
       "    .dataframe tbody tr th {\n",
       "        vertical-align: top;\n",
       "    }\n",
       "\n",
       "    .dataframe thead th {\n",
       "        text-align: right;\n",
       "    }\n",
       "</style>\n",
       "<table border=\"1\" class=\"dataframe\">\n",
       "  <thead>\n",
       "    <tr style=\"text-align: right;\">\n",
       "      <th></th>\n",
       "      <th>ApplicantIncome</th>\n",
       "      <th>CoapplicantIncome</th>\n",
       "      <th>LoanAmount</th>\n",
       "      <th>Loan_Amount_Term</th>\n",
       "      <th>Credit_History</th>\n",
       "    </tr>\n",
       "  </thead>\n",
       "  <tbody>\n",
       "    <tr>\n",
       "      <th>count</th>\n",
       "      <td>614.000000</td>\n",
       "      <td>614.000000</td>\n",
       "      <td>592.000000</td>\n",
       "      <td>600.00000</td>\n",
       "      <td>564.000000</td>\n",
       "    </tr>\n",
       "    <tr>\n",
       "      <th>mean</th>\n",
       "      <td>5403.459283</td>\n",
       "      <td>1621.245798</td>\n",
       "      <td>146.412162</td>\n",
       "      <td>342.00000</td>\n",
       "      <td>0.842199</td>\n",
       "    </tr>\n",
       "    <tr>\n",
       "      <th>std</th>\n",
       "      <td>6109.041673</td>\n",
       "      <td>2926.248369</td>\n",
       "      <td>85.587325</td>\n",
       "      <td>65.12041</td>\n",
       "      <td>0.364878</td>\n",
       "    </tr>\n",
       "    <tr>\n",
       "      <th>min</th>\n",
       "      <td>150.000000</td>\n",
       "      <td>0.000000</td>\n",
       "      <td>9.000000</td>\n",
       "      <td>12.00000</td>\n",
       "      <td>0.000000</td>\n",
       "    </tr>\n",
       "    <tr>\n",
       "      <th>25%</th>\n",
       "      <td>2877.500000</td>\n",
       "      <td>0.000000</td>\n",
       "      <td>100.000000</td>\n",
       "      <td>360.00000</td>\n",
       "      <td>1.000000</td>\n",
       "    </tr>\n",
       "    <tr>\n",
       "      <th>50%</th>\n",
       "      <td>3812.500000</td>\n",
       "      <td>1188.500000</td>\n",
       "      <td>128.000000</td>\n",
       "      <td>360.00000</td>\n",
       "      <td>1.000000</td>\n",
       "    </tr>\n",
       "    <tr>\n",
       "      <th>75%</th>\n",
       "      <td>5795.000000</td>\n",
       "      <td>2297.250000</td>\n",
       "      <td>168.000000</td>\n",
       "      <td>360.00000</td>\n",
       "      <td>1.000000</td>\n",
       "    </tr>\n",
       "    <tr>\n",
       "      <th>max</th>\n",
       "      <td>81000.000000</td>\n",
       "      <td>41667.000000</td>\n",
       "      <td>700.000000</td>\n",
       "      <td>480.00000</td>\n",
       "      <td>1.000000</td>\n",
       "    </tr>\n",
       "  </tbody>\n",
       "</table>\n",
       "</div>"
      ],
      "text/plain": [
       "       ApplicantIncome  CoapplicantIncome  LoanAmount  Loan_Amount_Term  \\\n",
       "count       614.000000         614.000000  592.000000         600.00000   \n",
       "mean       5403.459283        1621.245798  146.412162         342.00000   \n",
       "std        6109.041673        2926.248369   85.587325          65.12041   \n",
       "min         150.000000           0.000000    9.000000          12.00000   \n",
       "25%        2877.500000           0.000000  100.000000         360.00000   \n",
       "50%        3812.500000        1188.500000  128.000000         360.00000   \n",
       "75%        5795.000000        2297.250000  168.000000         360.00000   \n",
       "max       81000.000000       41667.000000  700.000000         480.00000   \n",
       "\n",
       "       Credit_History  \n",
       "count      564.000000  \n",
       "mean         0.842199  \n",
       "std          0.364878  \n",
       "min          0.000000  \n",
       "25%          1.000000  \n",
       "50%          1.000000  \n",
       "75%          1.000000  \n",
       "max          1.000000  "
      ]
     },
     "execution_count": 187,
     "metadata": {},
     "output_type": "execute_result"
    }
   ],
   "source": [
    "df.describe()"
   ]
  },
  {
   "cell_type": "markdown",
   "id": "66d3be85",
   "metadata": {},
   "source": [
    "**describe()** function gives the statistical properties of numerical columns from the dataset such as count of non-null values, mean ,standard deviation, minimum and maximum values and 25%, 50% and 70% percentile."
   ]
  },
  {
   "cell_type": "markdown",
   "id": "0cfefbc3",
   "metadata": {},
   "source": [
    "**Shape/Dimension of the dataset**"
   ]
  },
  {
   "cell_type": "code",
   "execution_count": 188,
   "id": "914ef6e4",
   "metadata": {},
   "outputs": [
    {
     "data": {
      "text/plain": [
       "(614, 13)"
      ]
     },
     "execution_count": 188,
     "metadata": {},
     "output_type": "execute_result"
    }
   ],
   "source": [
    "df.shape"
   ]
  },
  {
   "cell_type": "markdown",
   "id": "e2ed31c4",
   "metadata": {},
   "source": [
    "Above output explains that the loan dataset have ***13 columns and 614 records***"
   ]
  },
  {
   "cell_type": "markdown",
   "id": "5c8b76ce",
   "metadata": {},
   "source": [
    "**The value counts of “Loan_Status\"**"
   ]
  },
  {
   "cell_type": "code",
   "execution_count": 189,
   "id": "37892581",
   "metadata": {},
   "outputs": [
    {
     "data": {
      "text/plain": [
       "Y    422\n",
       "N    192\n",
       "Name: Loan_Status, dtype: int64"
      ]
     },
     "execution_count": 189,
     "metadata": {},
     "output_type": "execute_result"
    }
   ],
   "source": [
    "df['Loan_Status'].value_counts()"
   ]
  },
  {
   "cell_type": "markdown",
   "id": "0d89e93a",
   "metadata": {},
   "source": [
    "***value_counts()*** function provides the count of different values from the given column. Loan_Status have two values in the dataset Y and N. So this function has given the counts of records where Loan_Status is Y and N, respectively 422 and 192. "
   ]
  },
  {
   "cell_type": "code",
   "execution_count": 190,
   "id": "8b7c2a8f",
   "metadata": {},
   "outputs": [
    {
     "data": {
      "text/plain": [
       "<AxesSubplot:>"
      ]
     },
     "execution_count": 190,
     "metadata": {},
     "output_type": "execute_result"
    },
    {
     "data": {
      "image/png": "[encoded data removed]",
      "text/plain": [
       "<Figure size 432x288 with 1 Axes>"
      ]
     },
     "metadata": {
      "needs_background": "light"
     },
     "output_type": "display_data"
    }
   ],
   "source": [
    "df['Loan_Status'].value_counts().plot.bar()"
   ]
  },
  {
   "cell_type": "markdown",
   "id": "34b4622d",
   "metadata": {},
   "source": [
    "Above is the histogram for Loan_Status that depicts the number of records having Loan status as Y and N."
   ]
  },
  {
   "cell_type": "markdown",
   "id": "aa51cbc7",
   "metadata": {},
   "source": [
    "<p style='text-align: center;'>===================================================================================================== </p>"
   ]
  },
  {
   "cell_type": "markdown",
   "id": "24bb6e52",
   "metadata": {},
   "source": [
    "### <p style='text-align: center;'>Question 3 - Perform missing value imputation </p>"
   ]
  },
  {
   "cell_type": "markdown",
   "id": "23e7b5ea",
   "metadata": {},
   "source": [
    "#### Que 3.A List out feature-wise count of missing values"
   ]
  },
  {
   "cell_type": "code",
   "execution_count": 191,
   "id": "17a2a199",
   "metadata": {},
   "outputs": [
    {
     "data": {
      "text/plain": [
       "Loan_ID               0\n",
       "Gender               13\n",
       "Married               3\n",
       "Dependents           15\n",
       "Education             0\n",
       "Self_Employed        32\n",
       "ApplicantIncome       0\n",
       "CoapplicantIncome     0\n",
       "LoanAmount           22\n",
       "Loan_Amount_Term     14\n",
       "Credit_History       50\n",
       "Property_Area         0\n",
       "Loan_Status           0\n",
       "dtype: int64"
      ]
     },
     "execution_count": 191,
     "metadata": {},
     "output_type": "execute_result"
    }
   ],
   "source": [
    "df.isnull().sum()"
   ]
  },
  {
   "cell_type": "markdown",
   "id": "c1ce146c",
   "metadata": {},
   "source": [
    "Above output shows number of null values in each column. There are no null values in Loan_ID, Education, ApplicantIncome, CoapplicantIncome, Property_Area and Loan_Status. Other columns have few null values as displayed."
   ]
  },
  {
   "cell_type": "markdown",
   "id": "c35e4fed",
   "metadata": {},
   "source": [
    "#### Que 3.B Fill missing values in Gender, Married, Dependents, Credit_History, Self_Employed and and Loan_Amount_Term features using the mode of the features."
   ]
  },
  {
   "cell_type": "markdown",
   "id": "52dfa507",
   "metadata": {},
   "source": [
    "In the columns with the categorical datatype, missing values will be filled with mode, while the numerical columns will be filled with the median"
   ]
  },
  {
   "cell_type": "markdown",
   "id": "2707a4e6",
   "metadata": {},
   "source": [
    "- Replacing the missing values in the **Gender** column with the mode value"
   ]
  },
  {
   "cell_type": "code",
   "execution_count": 192,
   "id": "a6e92be5",
   "metadata": {
    "scrolled": true
   },
   "outputs": [
    {
     "data": {
      "text/plain": [
       "0    Male\n",
       "dtype: object"
      ]
     },
     "execution_count": 192,
     "metadata": {},
     "output_type": "execute_result"
    }
   ],
   "source": [
    "# finding Mode of the Gender first\n",
    "df['Gender'].mode()"
   ]
  },
  {
   "cell_type": "markdown",
   "id": "ffb135cd",
   "metadata": {},
   "source": [
    "This output shows that there are more male applicant than female applicants. Hence, the missing values in this column is more likely to have \"Male\" value."
   ]
  },
  {
   "cell_type": "code",
   "execution_count": 193,
   "id": "5393f5fa",
   "metadata": {},
   "outputs": [
    {
     "data": {
      "text/html": [
       "<div>\n",
       "<style scoped>\n",
       "    .dataframe tbody tr th:only-of-type {\n",
       "        vertical-align: middle;\n",
       "    }\n",
       "\n",
       "    .dataframe tbody tr th {\n",
       "        vertical-align: top;\n",
       "    }\n",
       "\n",
       "    .dataframe thead th {\n",
       "        text-align: right;\n",
       "    }\n",
       "</style>\n",
       "<table border=\"1\" class=\"dataframe\">\n",
       "  <thead>\n",
       "    <tr style=\"text-align: right;\">\n",
       "      <th></th>\n",
       "      <th>Loan_ID</th>\n",
       "      <th>Gender</th>\n",
       "      <th>Married</th>\n",
       "      <th>Dependents</th>\n",
       "      <th>Education</th>\n",
       "      <th>Self_Employed</th>\n",
       "      <th>ApplicantIncome</th>\n",
       "      <th>CoapplicantIncome</th>\n",
       "      <th>LoanAmount</th>\n",
       "      <th>Loan_Amount_Term</th>\n",
       "      <th>Credit_History</th>\n",
       "      <th>Property_Area</th>\n",
       "      <th>Loan_Status</th>\n",
       "    </tr>\n",
       "  </thead>\n",
       "  <tbody>\n",
       "    <tr>\n",
       "      <th>0</th>\n",
       "      <td>LP001002</td>\n",
       "      <td>Male</td>\n",
       "      <td>No</td>\n",
       "      <td>0</td>\n",
       "      <td>Graduate</td>\n",
       "      <td>No</td>\n",
       "      <td>5849</td>\n",
       "      <td>0.0</td>\n",
       "      <td>NaN</td>\n",
       "      <td>360.0</td>\n",
       "      <td>1.0</td>\n",
       "      <td>Urban</td>\n",
       "      <td>Y</td>\n",
       "    </tr>\n",
       "    <tr>\n",
       "      <th>1</th>\n",
       "      <td>LP001003</td>\n",
       "      <td>Male</td>\n",
       "      <td>Yes</td>\n",
       "      <td>1</td>\n",
       "      <td>Graduate</td>\n",
       "      <td>No</td>\n",
       "      <td>4583</td>\n",
       "      <td>1508.0</td>\n",
       "      <td>128.0</td>\n",
       "      <td>360.0</td>\n",
       "      <td>1.0</td>\n",
       "      <td>Rural</td>\n",
       "      <td>N</td>\n",
       "    </tr>\n",
       "    <tr>\n",
       "      <th>2</th>\n",
       "      <td>LP001005</td>\n",
       "      <td>Male</td>\n",
       "      <td>Yes</td>\n",
       "      <td>0</td>\n",
       "      <td>Graduate</td>\n",
       "      <td>Yes</td>\n",
       "      <td>3000</td>\n",
       "      <td>0.0</td>\n",
       "      <td>66.0</td>\n",
       "      <td>360.0</td>\n",
       "      <td>1.0</td>\n",
       "      <td>Urban</td>\n",
       "      <td>Y</td>\n",
       "    </tr>\n",
       "    <tr>\n",
       "      <th>3</th>\n",
       "      <td>LP001006</td>\n",
       "      <td>Male</td>\n",
       "      <td>Yes</td>\n",
       "      <td>0</td>\n",
       "      <td>Not Graduate</td>\n",
       "      <td>No</td>\n",
       "      <td>2583</td>\n",
       "      <td>2358.0</td>\n",
       "      <td>120.0</td>\n",
       "      <td>360.0</td>\n",
       "      <td>1.0</td>\n",
       "      <td>Urban</td>\n",
       "      <td>Y</td>\n",
       "    </tr>\n",
       "    <tr>\n",
       "      <th>4</th>\n",
       "      <td>LP001008</td>\n",
       "      <td>Male</td>\n",
       "      <td>No</td>\n",
       "      <td>0</td>\n",
       "      <td>Graduate</td>\n",
       "      <td>No</td>\n",
       "      <td>6000</td>\n",
       "      <td>0.0</td>\n",
       "      <td>141.0</td>\n",
       "      <td>360.0</td>\n",
       "      <td>1.0</td>\n",
       "      <td>Urban</td>\n",
       "      <td>Y</td>\n",
       "    </tr>\n",
       "  </tbody>\n",
       "</table>\n",
       "</div>"
      ],
      "text/plain": [
       "    Loan_ID Gender Married Dependents     Education Self_Employed  \\\n",
       "0  LP001002   Male      No          0      Graduate            No   \n",
       "1  LP001003   Male     Yes          1      Graduate            No   \n",
       "2  LP001005   Male     Yes          0      Graduate           Yes   \n",
       "3  LP001006   Male     Yes          0  Not Graduate            No   \n",
       "4  LP001008   Male      No          0      Graduate            No   \n",
       "\n",
       "   ApplicantIncome  CoapplicantIncome  LoanAmount  Loan_Amount_Term  \\\n",
       "0             5849                0.0         NaN             360.0   \n",
       "1             4583             1508.0       128.0             360.0   \n",
       "2             3000                0.0        66.0             360.0   \n",
       "3             2583             2358.0       120.0             360.0   \n",
       "4             6000                0.0       141.0             360.0   \n",
       "\n",
       "   Credit_History Property_Area Loan_Status  \n",
       "0             1.0         Urban           Y  \n",
       "1             1.0         Rural           N  \n",
       "2             1.0         Urban           Y  \n",
       "3             1.0         Urban           Y  \n",
       "4             1.0         Urban           Y  "
      ]
     },
     "execution_count": 193,
     "metadata": {},
     "output_type": "execute_result"
    }
   ],
   "source": [
    "# Replacing the missing values with Mode\n",
    "df['Gender'].fillna(df['Gender'].mode()[0], inplace=True)\n",
    "df.head()"
   ]
  },
  {
   "cell_type": "markdown",
   "id": "7e7c323d",
   "metadata": {},
   "source": [
    "Here, we have filled the missing values in Gender column with the mode of the column which is Male."
   ]
  },
  {
   "cell_type": "code",
   "execution_count": 194,
   "id": "be4b6afe",
   "metadata": {},
   "outputs": [
    {
     "data": {
      "text/plain": [
       "0"
      ]
     },
     "execution_count": 194,
     "metadata": {},
     "output_type": "execute_result"
    }
   ],
   "source": [
    "df[\"Gender\"].isna().sum()"
   ]
  },
  {
   "cell_type": "markdown",
   "id": "728b2003",
   "metadata": {},
   "source": [
    "Verifying if missing values in **Gender** column is filled up properly or not. 0 Result shows there are no more null exist in this column."
   ]
  },
  {
   "cell_type": "markdown",
   "id": "479d956e",
   "metadata": {},
   "source": [
    "- Replacing the missing values in the **Married** column with the mode value**"
   ]
  },
  {
   "cell_type": "code",
   "execution_count": 195,
   "id": "ecfa5b3c",
   "metadata": {},
   "outputs": [
    {
     "name": "stdout",
     "output_type": "stream",
     "text": [
      "0    Yes\n",
      "dtype: object\n"
     ]
    }
   ],
   "source": [
    "# Mode of the Married\n",
    "print(df['Married'].mode())"
   ]
  },
  {
   "cell_type": "markdown",
   "id": "b8784db7",
   "metadata": {},
   "source": [
    "This output shows that there are more married applicant than the unmarried ones. Hence, the missing values in this column is more likely to have \"Married\" value."
   ]
  },
  {
   "cell_type": "code",
   "execution_count": 196,
   "id": "97153465",
   "metadata": {},
   "outputs": [
    {
     "data": {
      "text/html": [
       "<div>\n",
       "<style scoped>\n",
       "    .dataframe tbody tr th:only-of-type {\n",
       "        vertical-align: middle;\n",
       "    }\n",
       "\n",
       "    .dataframe tbody tr th {\n",
       "        vertical-align: top;\n",
       "    }\n",
       "\n",
       "    .dataframe thead th {\n",
       "        text-align: right;\n",
       "    }\n",
       "</style>\n",
       "<table border=\"1\" class=\"dataframe\">\n",
       "  <thead>\n",
       "    <tr style=\"text-align: right;\">\n",
       "      <th></th>\n",
       "      <th>Loan_ID</th>\n",
       "      <th>Gender</th>\n",
       "      <th>Married</th>\n",
       "      <th>Dependents</th>\n",
       "      <th>Education</th>\n",
       "      <th>Self_Employed</th>\n",
       "      <th>ApplicantIncome</th>\n",
       "      <th>CoapplicantIncome</th>\n",
       "      <th>LoanAmount</th>\n",
       "      <th>Loan_Amount_Term</th>\n",
       "      <th>Credit_History</th>\n",
       "      <th>Property_Area</th>\n",
       "      <th>Loan_Status</th>\n",
       "    </tr>\n",
       "  </thead>\n",
       "  <tbody>\n",
       "    <tr>\n",
       "      <th>0</th>\n",
       "      <td>LP001002</td>\n",
       "      <td>Male</td>\n",
       "      <td>No</td>\n",
       "      <td>0</td>\n",
       "      <td>Graduate</td>\n",
       "      <td>No</td>\n",
       "      <td>5849</td>\n",
       "      <td>0.0</td>\n",
       "      <td>NaN</td>\n",
       "      <td>360.0</td>\n",
       "      <td>1.0</td>\n",
       "      <td>Urban</td>\n",
       "      <td>Y</td>\n",
       "    </tr>\n",
       "    <tr>\n",
       "      <th>1</th>\n",
       "      <td>LP001003</td>\n",
       "      <td>Male</td>\n",
       "      <td>Yes</td>\n",
       "      <td>1</td>\n",
       "      <td>Graduate</td>\n",
       "      <td>No</td>\n",
       "      <td>4583</td>\n",
       "      <td>1508.0</td>\n",
       "      <td>128.0</td>\n",
       "      <td>360.0</td>\n",
       "      <td>1.0</td>\n",
       "      <td>Rural</td>\n",
       "      <td>N</td>\n",
       "    </tr>\n",
       "    <tr>\n",
       "      <th>2</th>\n",
       "      <td>LP001005</td>\n",
       "      <td>Male</td>\n",
       "      <td>Yes</td>\n",
       "      <td>0</td>\n",
       "      <td>Graduate</td>\n",
       "      <td>Yes</td>\n",
       "      <td>3000</td>\n",
       "      <td>0.0</td>\n",
       "      <td>66.0</td>\n",
       "      <td>360.0</td>\n",
       "      <td>1.0</td>\n",
       "      <td>Urban</td>\n",
       "      <td>Y</td>\n",
       "    </tr>\n",
       "    <tr>\n",
       "      <th>3</th>\n",
       "      <td>LP001006</td>\n",
       "      <td>Male</td>\n",
       "      <td>Yes</td>\n",
       "      <td>0</td>\n",
       "      <td>Not Graduate</td>\n",
       "      <td>No</td>\n",
       "      <td>2583</td>\n",
       "      <td>2358.0</td>\n",
       "      <td>120.0</td>\n",
       "      <td>360.0</td>\n",
       "      <td>1.0</td>\n",
       "      <td>Urban</td>\n",
       "      <td>Y</td>\n",
       "    </tr>\n",
       "    <tr>\n",
       "      <th>4</th>\n",
       "      <td>LP001008</td>\n",
       "      <td>Male</td>\n",
       "      <td>No</td>\n",
       "      <td>0</td>\n",
       "      <td>Graduate</td>\n",
       "      <td>No</td>\n",
       "      <td>6000</td>\n",
       "      <td>0.0</td>\n",
       "      <td>141.0</td>\n",
       "      <td>360.0</td>\n",
       "      <td>1.0</td>\n",
       "      <td>Urban</td>\n",
       "      <td>Y</td>\n",
       "    </tr>\n",
       "  </tbody>\n",
       "</table>\n",
       "</div>"
      ],
      "text/plain": [
       "    Loan_ID Gender Married Dependents     Education Self_Employed  \\\n",
       "0  LP001002   Male      No          0      Graduate            No   \n",
       "1  LP001003   Male     Yes          1      Graduate            No   \n",
       "2  LP001005   Male     Yes          0      Graduate           Yes   \n",
       "3  LP001006   Male     Yes          0  Not Graduate            No   \n",
       "4  LP001008   Male      No          0      Graduate            No   \n",
       "\n",
       "   ApplicantIncome  CoapplicantIncome  LoanAmount  Loan_Amount_Term  \\\n",
       "0             5849                0.0         NaN             360.0   \n",
       "1             4583             1508.0       128.0             360.0   \n",
       "2             3000                0.0        66.0             360.0   \n",
       "3             2583             2358.0       120.0             360.0   \n",
       "4             6000                0.0       141.0             360.0   \n",
       "\n",
       "   Credit_History Property_Area Loan_Status  \n",
       "0             1.0         Urban           Y  \n",
       "1             1.0         Rural           N  \n",
       "2             1.0         Urban           Y  \n",
       "3             1.0         Urban           Y  \n",
       "4             1.0         Urban           Y  "
      ]
     },
     "execution_count": 196,
     "metadata": {},
     "output_type": "execute_result"
    }
   ],
   "source": [
    "# Replacing the missing values with Mode\n",
    "df['Married'].fillna(df['Married'].mode()[0], inplace=True)\n",
    "df.head()"
   ]
  },
  {
   "cell_type": "markdown",
   "id": "3b4cb21c",
   "metadata": {},
   "source": [
    "Here, we have filled the missing values in Married column with the mode of the column which is Yes."
   ]
  },
  {
   "cell_type": "code",
   "execution_count": 197,
   "id": "baaff767",
   "metadata": {},
   "outputs": [
    {
     "data": {
      "text/plain": [
       "0"
      ]
     },
     "execution_count": 197,
     "metadata": {},
     "output_type": "execute_result"
    }
   ],
   "source": [
    "df['Married'].isna().sum()"
   ]
  },
  {
   "cell_type": "markdown",
   "id": "0ab9ae74",
   "metadata": {},
   "source": [
    "Verifying if missing values in **Married** column is filled up properly or not. 0 Result shows there are no more null exist in this column."
   ]
  },
  {
   "cell_type": "markdown",
   "id": "1c745e16",
   "metadata": {},
   "source": [
    "- Replacing the missing values in the **Dependents** column with the mode value"
   ]
  },
  {
   "cell_type": "code",
   "execution_count": 198,
   "id": "bbdbcd6d",
   "metadata": {},
   "outputs": [
    {
     "name": "stdout",
     "output_type": "stream",
     "text": [
      "0    0\n",
      "dtype: object\n"
     ]
    }
   ],
   "source": [
    "# Mode of the Dependents\n",
    "print(df['Dependents'].mode())"
   ]
  },
  {
   "cell_type": "markdown",
   "id": "07e1c375",
   "metadata": {},
   "source": [
    "This output shows that there are more applicant having no dependents than the applicants having 1 or more dependents. Hence, the missing values in this column is more likely to have \"0\" value."
   ]
  },
  {
   "cell_type": "code",
   "execution_count": 199,
   "id": "9ebf72d1",
   "metadata": {},
   "outputs": [
    {
     "data": {
      "text/html": [
       "<div>\n",
       "<style scoped>\n",
       "    .dataframe tbody tr th:only-of-type {\n",
       "        vertical-align: middle;\n",
       "    }\n",
       "\n",
       "    .dataframe tbody tr th {\n",
       "        vertical-align: top;\n",
       "    }\n",
       "\n",
       "    .dataframe thead th {\n",
       "        text-align: right;\n",
       "    }\n",
       "</style>\n",
       "<table border=\"1\" class=\"dataframe\">\n",
       "  <thead>\n",
       "    <tr style=\"text-align: right;\">\n",
       "      <th></th>\n",
       "      <th>Loan_ID</th>\n",
       "      <th>Gender</th>\n",
       "      <th>Married</th>\n",
       "      <th>Dependents</th>\n",
       "      <th>Education</th>\n",
       "      <th>Self_Employed</th>\n",
       "      <th>ApplicantIncome</th>\n",
       "      <th>CoapplicantIncome</th>\n",
       "      <th>LoanAmount</th>\n",
       "      <th>Loan_Amount_Term</th>\n",
       "      <th>Credit_History</th>\n",
       "      <th>Property_Area</th>\n",
       "      <th>Loan_Status</th>\n",
       "    </tr>\n",
       "  </thead>\n",
       "  <tbody>\n",
       "    <tr>\n",
       "      <th>0</th>\n",
       "      <td>LP001002</td>\n",
       "      <td>Male</td>\n",
       "      <td>No</td>\n",
       "      <td>0</td>\n",
       "      <td>Graduate</td>\n",
       "      <td>No</td>\n",
       "      <td>5849</td>\n",
       "      <td>0.0</td>\n",
       "      <td>NaN</td>\n",
       "      <td>360.0</td>\n",
       "      <td>1.0</td>\n",
       "      <td>Urban</td>\n",
       "      <td>Y</td>\n",
       "    </tr>\n",
       "    <tr>\n",
       "      <th>1</th>\n",
       "      <td>LP001003</td>\n",
       "      <td>Male</td>\n",
       "      <td>Yes</td>\n",
       "      <td>1</td>\n",
       "      <td>Graduate</td>\n",
       "      <td>No</td>\n",
       "      <td>4583</td>\n",
       "      <td>1508.0</td>\n",
       "      <td>128.0</td>\n",
       "      <td>360.0</td>\n",
       "      <td>1.0</td>\n",
       "      <td>Rural</td>\n",
       "      <td>N</td>\n",
       "    </tr>\n",
       "    <tr>\n",
       "      <th>2</th>\n",
       "      <td>LP001005</td>\n",
       "      <td>Male</td>\n",
       "      <td>Yes</td>\n",
       "      <td>0</td>\n",
       "      <td>Graduate</td>\n",
       "      <td>Yes</td>\n",
       "      <td>3000</td>\n",
       "      <td>0.0</td>\n",
       "      <td>66.0</td>\n",
       "      <td>360.0</td>\n",
       "      <td>1.0</td>\n",
       "      <td>Urban</td>\n",
       "      <td>Y</td>\n",
       "    </tr>\n",
       "    <tr>\n",
       "      <th>3</th>\n",
       "      <td>LP001006</td>\n",
       "      <td>Male</td>\n",
       "      <td>Yes</td>\n",
       "      <td>0</td>\n",
       "      <td>Not Graduate</td>\n",
       "      <td>No</td>\n",
       "      <td>2583</td>\n",
       "      <td>2358.0</td>\n",
       "      <td>120.0</td>\n",
       "      <td>360.0</td>\n",
       "      <td>1.0</td>\n",
       "      <td>Urban</td>\n",
       "      <td>Y</td>\n",
       "    </tr>\n",
       "    <tr>\n",
       "      <th>4</th>\n",
       "      <td>LP001008</td>\n",
       "      <td>Male</td>\n",
       "      <td>No</td>\n",
       "      <td>0</td>\n",
       "      <td>Graduate</td>\n",
       "      <td>No</td>\n",
       "      <td>6000</td>\n",
       "      <td>0.0</td>\n",
       "      <td>141.0</td>\n",
       "      <td>360.0</td>\n",
       "      <td>1.0</td>\n",
       "      <td>Urban</td>\n",
       "      <td>Y</td>\n",
       "    </tr>\n",
       "  </tbody>\n",
       "</table>\n",
       "</div>"
      ],
      "text/plain": [
       "    Loan_ID Gender Married Dependents     Education Self_Employed  \\\n",
       "0  LP001002   Male      No          0      Graduate            No   \n",
       "1  LP001003   Male     Yes          1      Graduate            No   \n",
       "2  LP001005   Male     Yes          0      Graduate           Yes   \n",
       "3  LP001006   Male     Yes          0  Not Graduate            No   \n",
       "4  LP001008   Male      No          0      Graduate            No   \n",
       "\n",
       "   ApplicantIncome  CoapplicantIncome  LoanAmount  Loan_Amount_Term  \\\n",
       "0             5849                0.0         NaN             360.0   \n",
       "1             4583             1508.0       128.0             360.0   \n",
       "2             3000                0.0        66.0             360.0   \n",
       "3             2583             2358.0       120.0             360.0   \n",
       "4             6000                0.0       141.0             360.0   \n",
       "\n",
       "   Credit_History Property_Area Loan_Status  \n",
       "0             1.0         Urban           Y  \n",
       "1             1.0         Rural           N  \n",
       "2             1.0         Urban           Y  \n",
       "3             1.0         Urban           Y  \n",
       "4             1.0         Urban           Y  "
      ]
     },
     "execution_count": 199,
     "metadata": {},
     "output_type": "execute_result"
    }
   ],
   "source": [
    "# Replacing the missing values with Mode\n",
    "df['Dependents'].fillna(df['Dependents'].mode()[0], inplace=True)\n",
    "df.head()"
   ]
  },
  {
   "cell_type": "markdown",
   "id": "e4a7a844",
   "metadata": {},
   "source": [
    "Here, we have filled the missing values in Dependents column with the mode of the column which is 0."
   ]
  },
  {
   "cell_type": "code",
   "execution_count": 200,
   "id": "e5277d8c",
   "metadata": {},
   "outputs": [
    {
     "data": {
      "text/plain": [
       "0"
      ]
     },
     "execution_count": 200,
     "metadata": {},
     "output_type": "execute_result"
    }
   ],
   "source": [
    "df['Dependents'].isna().sum()"
   ]
  },
  {
   "cell_type": "markdown",
   "id": "6cc5a58e",
   "metadata": {},
   "source": [
    "Verifying if missing values in **Dependents** column is filled up properly or not. 0 Result shows there are no more null exist in this column."
   ]
  },
  {
   "cell_type": "markdown",
   "id": "b4973fc1",
   "metadata": {},
   "source": [
    "- Replacing the missing values in the **Credit_History** column with the mode value"
   ]
  },
  {
   "cell_type": "code",
   "execution_count": 201,
   "id": "a852ed68",
   "metadata": {},
   "outputs": [
    {
     "name": "stdout",
     "output_type": "stream",
     "text": [
      "0    1.0\n",
      "dtype: float64\n"
     ]
    }
   ],
   "source": [
    "# Mode of the Credit_History\n",
    "print(df['Credit_History'].mode())"
   ]
  },
  {
   "cell_type": "markdown",
   "id": "a965c880",
   "metadata": {},
   "source": [
    "This output shows that there are more applicant having 1.0 credit history. Hence, the missing values in this column is more likely to have \"1.0\" value."
   ]
  },
  {
   "cell_type": "code",
   "execution_count": 202,
   "id": "ba52963b",
   "metadata": {},
   "outputs": [
    {
     "data": {
      "text/html": [
       "<div>\n",
       "<style scoped>\n",
       "    .dataframe tbody tr th:only-of-type {\n",
       "        vertical-align: middle;\n",
       "    }\n",
       "\n",
       "    .dataframe tbody tr th {\n",
       "        vertical-align: top;\n",
       "    }\n",
       "\n",
       "    .dataframe thead th {\n",
       "        text-align: right;\n",
       "    }\n",
       "</style>\n",
       "<table border=\"1\" class=\"dataframe\">\n",
       "  <thead>\n",
       "    <tr style=\"text-align: right;\">\n",
       "      <th></th>\n",
       "      <th>Loan_ID</th>\n",
       "      <th>Gender</th>\n",
       "      <th>Married</th>\n",
       "      <th>Dependents</th>\n",
       "      <th>Education</th>\n",
       "      <th>Self_Employed</th>\n",
       "      <th>ApplicantIncome</th>\n",
       "      <th>CoapplicantIncome</th>\n",
       "      <th>LoanAmount</th>\n",
       "      <th>Loan_Amount_Term</th>\n",
       "      <th>Credit_History</th>\n",
       "      <th>Property_Area</th>\n",
       "      <th>Loan_Status</th>\n",
       "    </tr>\n",
       "  </thead>\n",
       "  <tbody>\n",
       "    <tr>\n",
       "      <th>0</th>\n",
       "      <td>LP001002</td>\n",
       "      <td>Male</td>\n",
       "      <td>No</td>\n",
       "      <td>0</td>\n",
       "      <td>Graduate</td>\n",
       "      <td>No</td>\n",
       "      <td>5849</td>\n",
       "      <td>0.0</td>\n",
       "      <td>NaN</td>\n",
       "      <td>360.0</td>\n",
       "      <td>1.0</td>\n",
       "      <td>Urban</td>\n",
       "      <td>Y</td>\n",
       "    </tr>\n",
       "    <tr>\n",
       "      <th>1</th>\n",
       "      <td>LP001003</td>\n",
       "      <td>Male</td>\n",
       "      <td>Yes</td>\n",
       "      <td>1</td>\n",
       "      <td>Graduate</td>\n",
       "      <td>No</td>\n",
       "      <td>4583</td>\n",
       "      <td>1508.0</td>\n",
       "      <td>128.0</td>\n",
       "      <td>360.0</td>\n",
       "      <td>1.0</td>\n",
       "      <td>Rural</td>\n",
       "      <td>N</td>\n",
       "    </tr>\n",
       "    <tr>\n",
       "      <th>2</th>\n",
       "      <td>LP001005</td>\n",
       "      <td>Male</td>\n",
       "      <td>Yes</td>\n",
       "      <td>0</td>\n",
       "      <td>Graduate</td>\n",
       "      <td>Yes</td>\n",
       "      <td>3000</td>\n",
       "      <td>0.0</td>\n",
       "      <td>66.0</td>\n",
       "      <td>360.0</td>\n",
       "      <td>1.0</td>\n",
       "      <td>Urban</td>\n",
       "      <td>Y</td>\n",
       "    </tr>\n",
       "    <tr>\n",
       "      <th>3</th>\n",
       "      <td>LP001006</td>\n",
       "      <td>Male</td>\n",
       "      <td>Yes</td>\n",
       "      <td>0</td>\n",
       "      <td>Not Graduate</td>\n",
       "      <td>No</td>\n",
       "      <td>2583</td>\n",
       "      <td>2358.0</td>\n",
       "      <td>120.0</td>\n",
       "      <td>360.0</td>\n",
       "      <td>1.0</td>\n",
       "      <td>Urban</td>\n",
       "      <td>Y</td>\n",
       "    </tr>\n",
       "    <tr>\n",
       "      <th>4</th>\n",
       "      <td>LP001008</td>\n",
       "      <td>Male</td>\n",
       "      <td>No</td>\n",
       "      <td>0</td>\n",
       "      <td>Graduate</td>\n",
       "      <td>No</td>\n",
       "      <td>6000</td>\n",
       "      <td>0.0</td>\n",
       "      <td>141.0</td>\n",
       "      <td>360.0</td>\n",
       "      <td>1.0</td>\n",
       "      <td>Urban</td>\n",
       "      <td>Y</td>\n",
       "    </tr>\n",
       "  </tbody>\n",
       "</table>\n",
       "</div>"
      ],
      "text/plain": [
       "    Loan_ID Gender Married Dependents     Education Self_Employed  \\\n",
       "0  LP001002   Male      No          0      Graduate            No   \n",
       "1  LP001003   Male     Yes          1      Graduate            No   \n",
       "2  LP001005   Male     Yes          0      Graduate           Yes   \n",
       "3  LP001006   Male     Yes          0  Not Graduate            No   \n",
       "4  LP001008   Male      No          0      Graduate            No   \n",
       "\n",
       "   ApplicantIncome  CoapplicantIncome  LoanAmount  Loan_Amount_Term  \\\n",
       "0             5849                0.0         NaN             360.0   \n",
       "1             4583             1508.0       128.0             360.0   \n",
       "2             3000                0.0        66.0             360.0   \n",
       "3             2583             2358.0       120.0             360.0   \n",
       "4             6000                0.0       141.0             360.0   \n",
       "\n",
       "   Credit_History Property_Area Loan_Status  \n",
       "0             1.0         Urban           Y  \n",
       "1             1.0         Rural           N  \n",
       "2             1.0         Urban           Y  \n",
       "3             1.0         Urban           Y  \n",
       "4             1.0         Urban           Y  "
      ]
     },
     "execution_count": 202,
     "metadata": {},
     "output_type": "execute_result"
    }
   ],
   "source": [
    "# Replacing the missing values with Mode\n",
    "df['Credit_History'].fillna(df['Credit_History'].mode()[0], inplace=True)\n",
    "df.head()"
   ]
  },
  {
   "cell_type": "markdown",
   "id": "c6565ed4",
   "metadata": {},
   "source": [
    "Here, we have filled the missing values in **Credit_History** column with the mode of the column which is 1.0"
   ]
  },
  {
   "cell_type": "code",
   "execution_count": 203,
   "id": "fdb156b4",
   "metadata": {},
   "outputs": [
    {
     "data": {
      "text/plain": [
       "0"
      ]
     },
     "execution_count": 203,
     "metadata": {},
     "output_type": "execute_result"
    }
   ],
   "source": [
    "df['Credit_History'].isna().sum()"
   ]
  },
  {
   "cell_type": "markdown",
   "id": "dddc8941",
   "metadata": {},
   "source": [
    "Verifying if missing values in **Credit_History** column is filled up properly or not. 0 Result shows there are no more null exist in this column."
   ]
  },
  {
   "cell_type": "markdown",
   "id": "d6ec1820",
   "metadata": {},
   "source": [
    "- Replacing the missing values in the **Self_Employed** column with the mode value"
   ]
  },
  {
   "cell_type": "code",
   "execution_count": 204,
   "id": "80c0a40c",
   "metadata": {},
   "outputs": [
    {
     "name": "stdout",
     "output_type": "stream",
     "text": [
      "0    No\n",
      "dtype: object\n"
     ]
    }
   ],
   "source": [
    "# Mode of the Self_Employed\n",
    "print(df['Self_Employed'].mode())"
   ]
  },
  {
   "cell_type": "markdown",
   "id": "ce806dd2",
   "metadata": {},
   "source": [
    "This output shows that there are more applicant who are not self employed. Hence, the missing values in this column is more likely to have \"No\" value."
   ]
  },
  {
   "cell_type": "code",
   "execution_count": 205,
   "id": "6b094fb3",
   "metadata": {},
   "outputs": [
    {
     "data": {
      "text/html": [
       "<div>\n",
       "<style scoped>\n",
       "    .dataframe tbody tr th:only-of-type {\n",
       "        vertical-align: middle;\n",
       "    }\n",
       "\n",
       "    .dataframe tbody tr th {\n",
       "        vertical-align: top;\n",
       "    }\n",
       "\n",
       "    .dataframe thead th {\n",
       "        text-align: right;\n",
       "    }\n",
       "</style>\n",
       "<table border=\"1\" class=\"dataframe\">\n",
       "  <thead>\n",
       "    <tr style=\"text-align: right;\">\n",
       "      <th></th>\n",
       "      <th>Loan_ID</th>\n",
       "      <th>Gender</th>\n",
       "      <th>Married</th>\n",
       "      <th>Dependents</th>\n",
       "      <th>Education</th>\n",
       "      <th>Self_Employed</th>\n",
       "      <th>ApplicantIncome</th>\n",
       "      <th>CoapplicantIncome</th>\n",
       "      <th>LoanAmount</th>\n",
       "      <th>Loan_Amount_Term</th>\n",
       "      <th>Credit_History</th>\n",
       "      <th>Property_Area</th>\n",
       "      <th>Loan_Status</th>\n",
       "    </tr>\n",
       "  </thead>\n",
       "  <tbody>\n",
       "    <tr>\n",
       "      <th>0</th>\n",
       "      <td>LP001002</td>\n",
       "      <td>Male</td>\n",
       "      <td>No</td>\n",
       "      <td>0</td>\n",
       "      <td>Graduate</td>\n",
       "      <td>No</td>\n",
       "      <td>5849</td>\n",
       "      <td>0.0</td>\n",
       "      <td>NaN</td>\n",
       "      <td>360.0</td>\n",
       "      <td>1.0</td>\n",
       "      <td>Urban</td>\n",
       "      <td>Y</td>\n",
       "    </tr>\n",
       "    <tr>\n",
       "      <th>1</th>\n",
       "      <td>LP001003</td>\n",
       "      <td>Male</td>\n",
       "      <td>Yes</td>\n",
       "      <td>1</td>\n",
       "      <td>Graduate</td>\n",
       "      <td>No</td>\n",
       "      <td>4583</td>\n",
       "      <td>1508.0</td>\n",
       "      <td>128.0</td>\n",
       "      <td>360.0</td>\n",
       "      <td>1.0</td>\n",
       "      <td>Rural</td>\n",
       "      <td>N</td>\n",
       "    </tr>\n",
       "    <tr>\n",
       "      <th>2</th>\n",
       "      <td>LP001005</td>\n",
       "      <td>Male</td>\n",
       "      <td>Yes</td>\n",
       "      <td>0</td>\n",
       "      <td>Graduate</td>\n",
       "      <td>Yes</td>\n",
       "      <td>3000</td>\n",
       "      <td>0.0</td>\n",
       "      <td>66.0</td>\n",
       "      <td>360.0</td>\n",
       "      <td>1.0</td>\n",
       "      <td>Urban</td>\n",
       "      <td>Y</td>\n",
       "    </tr>\n",
       "    <tr>\n",
       "      <th>3</th>\n",
       "      <td>LP001006</td>\n",
       "      <td>Male</td>\n",
       "      <td>Yes</td>\n",
       "      <td>0</td>\n",
       "      <td>Not Graduate</td>\n",
       "      <td>No</td>\n",
       "      <td>2583</td>\n",
       "      <td>2358.0</td>\n",
       "      <td>120.0</td>\n",
       "      <td>360.0</td>\n",
       "      <td>1.0</td>\n",
       "      <td>Urban</td>\n",
       "      <td>Y</td>\n",
       "    </tr>\n",
       "    <tr>\n",
       "      <th>4</th>\n",
       "      <td>LP001008</td>\n",
       "      <td>Male</td>\n",
       "      <td>No</td>\n",
       "      <td>0</td>\n",
       "      <td>Graduate</td>\n",
       "      <td>No</td>\n",
       "      <td>6000</td>\n",
       "      <td>0.0</td>\n",
       "      <td>141.0</td>\n",
       "      <td>360.0</td>\n",
       "      <td>1.0</td>\n",
       "      <td>Urban</td>\n",
       "      <td>Y</td>\n",
       "    </tr>\n",
       "  </tbody>\n",
       "</table>\n",
       "</div>"
      ],
      "text/plain": [
       "    Loan_ID Gender Married Dependents     Education Self_Employed  \\\n",
       "0  LP001002   Male      No          0      Graduate            No   \n",
       "1  LP001003   Male     Yes          1      Graduate            No   \n",
       "2  LP001005   Male     Yes          0      Graduate           Yes   \n",
       "3  LP001006   Male     Yes          0  Not Graduate            No   \n",
       "4  LP001008   Male      No          0      Graduate            No   \n",
       "\n",
       "   ApplicantIncome  CoapplicantIncome  LoanAmount  Loan_Amount_Term  \\\n",
       "0             5849                0.0         NaN             360.0   \n",
       "1             4583             1508.0       128.0             360.0   \n",
       "2             3000                0.0        66.0             360.0   \n",
       "3             2583             2358.0       120.0             360.0   \n",
       "4             6000                0.0       141.0             360.0   \n",
       "\n",
       "   Credit_History Property_Area Loan_Status  \n",
       "0             1.0         Urban           Y  \n",
       "1             1.0         Rural           N  \n",
       "2             1.0         Urban           Y  \n",
       "3             1.0         Urban           Y  \n",
       "4             1.0         Urban           Y  "
      ]
     },
     "execution_count": 205,
     "metadata": {},
     "output_type": "execute_result"
    }
   ],
   "source": [
    "# Replacing the missing values with Mode\n",
    "df['Self_Employed'].fillna(df['Self_Employed'].mode()[0], inplace=True)\n",
    "df.head()"
   ]
  },
  {
   "cell_type": "markdown",
   "id": "daea5572",
   "metadata": {},
   "source": [
    "Here, we have filled the missing values in **Self_Employed** column with the mode of the column which is No."
   ]
  },
  {
   "cell_type": "code",
   "execution_count": 206,
   "id": "eac89d38",
   "metadata": {},
   "outputs": [
    {
     "data": {
      "text/plain": [
       "0"
      ]
     },
     "execution_count": 206,
     "metadata": {},
     "output_type": "execute_result"
    }
   ],
   "source": [
    "df['Self_Employed'].isna().sum()"
   ]
  },
  {
   "cell_type": "markdown",
   "id": "5ec585f2",
   "metadata": {},
   "source": [
    "Verifying if missing values in **Self_Employed** column is filled up properly or not. 0 Result shows there are no more null exist in this column."
   ]
  },
  {
   "cell_type": "markdown",
   "id": "c30546d3",
   "metadata": {},
   "source": [
    "- Replacing the missing values in the **Loan_Amount_Term** column with the mode value"
   ]
  },
  {
   "cell_type": "code",
   "execution_count": 207,
   "id": "cadb48f0",
   "metadata": {},
   "outputs": [
    {
     "name": "stdout",
     "output_type": "stream",
     "text": [
      "0    360.0\n",
      "dtype: float64\n"
     ]
    }
   ],
   "source": [
    "# Mode of the Loan_Amount_Term\n",
    "print(df['Loan_Amount_Term'].mode())"
   ]
  },
  {
   "cell_type": "markdown",
   "id": "516915a1",
   "metadata": {},
   "source": [
    "This output shows that there are more applicant whose Loan Term is 360. Hence, the missing values in this column is more likely to have \"360\" value."
   ]
  },
  {
   "cell_type": "code",
   "execution_count": 208,
   "id": "40132516",
   "metadata": {},
   "outputs": [
    {
     "data": {
      "text/html": [
       "<div>\n",
       "<style scoped>\n",
       "    .dataframe tbody tr th:only-of-type {\n",
       "        vertical-align: middle;\n",
       "    }\n",
       "\n",
       "    .dataframe tbody tr th {\n",
       "        vertical-align: top;\n",
       "    }\n",
       "\n",
       "    .dataframe thead th {\n",
       "        text-align: right;\n",
       "    }\n",
       "</style>\n",
       "<table border=\"1\" class=\"dataframe\">\n",
       "  <thead>\n",
       "    <tr style=\"text-align: right;\">\n",
       "      <th></th>\n",
       "      <th>Loan_ID</th>\n",
       "      <th>Gender</th>\n",
       "      <th>Married</th>\n",
       "      <th>Dependents</th>\n",
       "      <th>Education</th>\n",
       "      <th>Self_Employed</th>\n",
       "      <th>ApplicantIncome</th>\n",
       "      <th>CoapplicantIncome</th>\n",
       "      <th>LoanAmount</th>\n",
       "      <th>Loan_Amount_Term</th>\n",
       "      <th>Credit_History</th>\n",
       "      <th>Property_Area</th>\n",
       "      <th>Loan_Status</th>\n",
       "    </tr>\n",
       "  </thead>\n",
       "  <tbody>\n",
       "    <tr>\n",
       "      <th>0</th>\n",
       "      <td>LP001002</td>\n",
       "      <td>Male</td>\n",
       "      <td>No</td>\n",
       "      <td>0</td>\n",
       "      <td>Graduate</td>\n",
       "      <td>No</td>\n",
       "      <td>5849</td>\n",
       "      <td>0.0</td>\n",
       "      <td>NaN</td>\n",
       "      <td>360.0</td>\n",
       "      <td>1.0</td>\n",
       "      <td>Urban</td>\n",
       "      <td>Y</td>\n",
       "    </tr>\n",
       "    <tr>\n",
       "      <th>1</th>\n",
       "      <td>LP001003</td>\n",
       "      <td>Male</td>\n",
       "      <td>Yes</td>\n",
       "      <td>1</td>\n",
       "      <td>Graduate</td>\n",
       "      <td>No</td>\n",
       "      <td>4583</td>\n",
       "      <td>1508.0</td>\n",
       "      <td>128.0</td>\n",
       "      <td>360.0</td>\n",
       "      <td>1.0</td>\n",
       "      <td>Rural</td>\n",
       "      <td>N</td>\n",
       "    </tr>\n",
       "    <tr>\n",
       "      <th>2</th>\n",
       "      <td>LP001005</td>\n",
       "      <td>Male</td>\n",
       "      <td>Yes</td>\n",
       "      <td>0</td>\n",
       "      <td>Graduate</td>\n",
       "      <td>Yes</td>\n",
       "      <td>3000</td>\n",
       "      <td>0.0</td>\n",
       "      <td>66.0</td>\n",
       "      <td>360.0</td>\n",
       "      <td>1.0</td>\n",
       "      <td>Urban</td>\n",
       "      <td>Y</td>\n",
       "    </tr>\n",
       "    <tr>\n",
       "      <th>3</th>\n",
       "      <td>LP001006</td>\n",
       "      <td>Male</td>\n",
       "      <td>Yes</td>\n",
       "      <td>0</td>\n",
       "      <td>Not Graduate</td>\n",
       "      <td>No</td>\n",
       "      <td>2583</td>\n",
       "      <td>2358.0</td>\n",
       "      <td>120.0</td>\n",
       "      <td>360.0</td>\n",
       "      <td>1.0</td>\n",
       "      <td>Urban</td>\n",
       "      <td>Y</td>\n",
       "    </tr>\n",
       "    <tr>\n",
       "      <th>4</th>\n",
       "      <td>LP001008</td>\n",
       "      <td>Male</td>\n",
       "      <td>No</td>\n",
       "      <td>0</td>\n",
       "      <td>Graduate</td>\n",
       "      <td>No</td>\n",
       "      <td>6000</td>\n",
       "      <td>0.0</td>\n",
       "      <td>141.0</td>\n",
       "      <td>360.0</td>\n",
       "      <td>1.0</td>\n",
       "      <td>Urban</td>\n",
       "      <td>Y</td>\n",
       "    </tr>\n",
       "  </tbody>\n",
       "</table>\n",
       "</div>"
      ],
      "text/plain": [
       "    Loan_ID Gender Married Dependents     Education Self_Employed  \\\n",
       "0  LP001002   Male      No          0      Graduate            No   \n",
       "1  LP001003   Male     Yes          1      Graduate            No   \n",
       "2  LP001005   Male     Yes          0      Graduate           Yes   \n",
       "3  LP001006   Male     Yes          0  Not Graduate            No   \n",
       "4  LP001008   Male      No          0      Graduate            No   \n",
       "\n",
       "   ApplicantIncome  CoapplicantIncome  LoanAmount  Loan_Amount_Term  \\\n",
       "0             5849                0.0         NaN             360.0   \n",
       "1             4583             1508.0       128.0             360.0   \n",
       "2             3000                0.0        66.0             360.0   \n",
       "3             2583             2358.0       120.0             360.0   \n",
       "4             6000                0.0       141.0             360.0   \n",
       "\n",
       "   Credit_History Property_Area Loan_Status  \n",
       "0             1.0         Urban           Y  \n",
       "1             1.0         Rural           N  \n",
       "2             1.0         Urban           Y  \n",
       "3             1.0         Urban           Y  \n",
       "4             1.0         Urban           Y  "
      ]
     },
     "execution_count": 208,
     "metadata": {},
     "output_type": "execute_result"
    }
   ],
   "source": [
    "# Replacing the missing values with Mode\n",
    "df['Loan_Amount_Term'].fillna(df['Loan_Amount_Term'].mode()[0], inplace=True)\n",
    "df.head()"
   ]
  },
  {
   "cell_type": "markdown",
   "id": "587b2d83",
   "metadata": {},
   "source": [
    "Here, we have filled the missing values in Loan_Amount_Term column with the mode of the column which is 360."
   ]
  },
  {
   "cell_type": "code",
   "execution_count": 209,
   "id": "2141c91c",
   "metadata": {},
   "outputs": [
    {
     "data": {
      "text/plain": [
       "0"
      ]
     },
     "execution_count": 209,
     "metadata": {},
     "output_type": "execute_result"
    }
   ],
   "source": [
    "df['Loan_Amount_Term'].isna().sum()"
   ]
  },
  {
   "cell_type": "markdown",
   "id": "0cd081d8",
   "metadata": {},
   "source": [
    "Verifying if missing values in **Loan_Amount_Term** column is filled up properly or not. 0 Result shows there are no more null exist in this column."
   ]
  },
  {
   "cell_type": "markdown",
   "id": "2398033d",
   "metadata": {},
   "source": [
    "#### Que 3.C Use the median to fill the null values of the LoanAmount variable."
   ]
  },
  {
   "cell_type": "code",
   "execution_count": 210,
   "id": "b2c0a388",
   "metadata": {},
   "outputs": [
    {
     "name": "stdout",
     "output_type": "stream",
     "text": [
      "128.0\n"
     ]
    }
   ],
   "source": [
    "# Median of the LoanAmount\n",
    "print(df['LoanAmount'].median())"
   ]
  },
  {
   "cell_type": "markdown",
   "id": "9cfdf2e3",
   "metadata": {},
   "source": [
    "Median loan amount is 128 in the dataset and can be used for replacing the missing values."
   ]
  },
  {
   "cell_type": "code",
   "execution_count": 211,
   "id": "c7fda699",
   "metadata": {},
   "outputs": [
    {
     "data": {
      "text/html": [
       "<div>\n",
       "<style scoped>\n",
       "    .dataframe tbody tr th:only-of-type {\n",
       "        vertical-align: middle;\n",
       "    }\n",
       "\n",
       "    .dataframe tbody tr th {\n",
       "        vertical-align: top;\n",
       "    }\n",
       "\n",
       "    .dataframe thead th {\n",
       "        text-align: right;\n",
       "    }\n",
       "</style>\n",
       "<table border=\"1\" class=\"dataframe\">\n",
       "  <thead>\n",
       "    <tr style=\"text-align: right;\">\n",
       "      <th></th>\n",
       "      <th>Loan_ID</th>\n",
       "      <th>Gender</th>\n",
       "      <th>Married</th>\n",
       "      <th>Dependents</th>\n",
       "      <th>Education</th>\n",
       "      <th>Self_Employed</th>\n",
       "      <th>ApplicantIncome</th>\n",
       "      <th>CoapplicantIncome</th>\n",
       "      <th>LoanAmount</th>\n",
       "      <th>Loan_Amount_Term</th>\n",
       "      <th>Credit_History</th>\n",
       "      <th>Property_Area</th>\n",
       "      <th>Loan_Status</th>\n",
       "    </tr>\n",
       "  </thead>\n",
       "  <tbody>\n",
       "    <tr>\n",
       "      <th>0</th>\n",
       "      <td>LP001002</td>\n",
       "      <td>Male</td>\n",
       "      <td>No</td>\n",
       "      <td>0</td>\n",
       "      <td>Graduate</td>\n",
       "      <td>No</td>\n",
       "      <td>5849</td>\n",
       "      <td>0.0</td>\n",
       "      <td>128.0</td>\n",
       "      <td>360.0</td>\n",
       "      <td>1.0</td>\n",
       "      <td>Urban</td>\n",
       "      <td>Y</td>\n",
       "    </tr>\n",
       "    <tr>\n",
       "      <th>1</th>\n",
       "      <td>LP001003</td>\n",
       "      <td>Male</td>\n",
       "      <td>Yes</td>\n",
       "      <td>1</td>\n",
       "      <td>Graduate</td>\n",
       "      <td>No</td>\n",
       "      <td>4583</td>\n",
       "      <td>1508.0</td>\n",
       "      <td>128.0</td>\n",
       "      <td>360.0</td>\n",
       "      <td>1.0</td>\n",
       "      <td>Rural</td>\n",
       "      <td>N</td>\n",
       "    </tr>\n",
       "    <tr>\n",
       "      <th>2</th>\n",
       "      <td>LP001005</td>\n",
       "      <td>Male</td>\n",
       "      <td>Yes</td>\n",
       "      <td>0</td>\n",
       "      <td>Graduate</td>\n",
       "      <td>Yes</td>\n",
       "      <td>3000</td>\n",
       "      <td>0.0</td>\n",
       "      <td>66.0</td>\n",
       "      <td>360.0</td>\n",
       "      <td>1.0</td>\n",
       "      <td>Urban</td>\n",
       "      <td>Y</td>\n",
       "    </tr>\n",
       "    <tr>\n",
       "      <th>3</th>\n",
       "      <td>LP001006</td>\n",
       "      <td>Male</td>\n",
       "      <td>Yes</td>\n",
       "      <td>0</td>\n",
       "      <td>Not Graduate</td>\n",
       "      <td>No</td>\n",
       "      <td>2583</td>\n",
       "      <td>2358.0</td>\n",
       "      <td>120.0</td>\n",
       "      <td>360.0</td>\n",
       "      <td>1.0</td>\n",
       "      <td>Urban</td>\n",
       "      <td>Y</td>\n",
       "    </tr>\n",
       "    <tr>\n",
       "      <th>4</th>\n",
       "      <td>LP001008</td>\n",
       "      <td>Male</td>\n",
       "      <td>No</td>\n",
       "      <td>0</td>\n",
       "      <td>Graduate</td>\n",
       "      <td>No</td>\n",
       "      <td>6000</td>\n",
       "      <td>0.0</td>\n",
       "      <td>141.0</td>\n",
       "      <td>360.0</td>\n",
       "      <td>1.0</td>\n",
       "      <td>Urban</td>\n",
       "      <td>Y</td>\n",
       "    </tr>\n",
       "  </tbody>\n",
       "</table>\n",
       "</div>"
      ],
      "text/plain": [
       "    Loan_ID Gender Married Dependents     Education Self_Employed  \\\n",
       "0  LP001002   Male      No          0      Graduate            No   \n",
       "1  LP001003   Male     Yes          1      Graduate            No   \n",
       "2  LP001005   Male     Yes          0      Graduate           Yes   \n",
       "3  LP001006   Male     Yes          0  Not Graduate            No   \n",
       "4  LP001008   Male      No          0      Graduate            No   \n",
       "\n",
       "   ApplicantIncome  CoapplicantIncome  LoanAmount  Loan_Amount_Term  \\\n",
       "0             5849                0.0       128.0             360.0   \n",
       "1             4583             1508.0       128.0             360.0   \n",
       "2             3000                0.0        66.0             360.0   \n",
       "3             2583             2358.0       120.0             360.0   \n",
       "4             6000                0.0       141.0             360.0   \n",
       "\n",
       "   Credit_History Property_Area Loan_Status  \n",
       "0             1.0         Urban           Y  \n",
       "1             1.0         Rural           N  \n",
       "2             1.0         Urban           Y  \n",
       "3             1.0         Urban           Y  \n",
       "4             1.0         Urban           Y  "
      ]
     },
     "execution_count": 211,
     "metadata": {},
     "output_type": "execute_result"
    }
   ],
   "source": [
    "# Replacing the missing values with Median\n",
    "df['LoanAmount'].fillna(df['LoanAmount'].median(), inplace=True)\n",
    "df.head()"
   ]
  },
  {
   "cell_type": "markdown",
   "id": "b69eae54",
   "metadata": {},
   "source": [
    "Here, we have filled the missing values in LoanAmount column with the median of the column which is 128."
   ]
  },
  {
   "cell_type": "code",
   "execution_count": 212,
   "id": "c36e7731",
   "metadata": {},
   "outputs": [
    {
     "data": {
      "text/plain": [
       "0"
      ]
     },
     "execution_count": 212,
     "metadata": {},
     "output_type": "execute_result"
    }
   ],
   "source": [
    "df['LoanAmount'].isna().sum()"
   ]
  },
  {
   "cell_type": "markdown",
   "id": "7e2738fb",
   "metadata": {},
   "source": [
    "Verifying if missing values in **LoanAmount** column is filled up properly or not. 0 Result shows there are no more null exist in this column."
   ]
  },
  {
   "cell_type": "markdown",
   "id": "937d1d5c",
   "metadata": {},
   "source": [
    "#### Que 3.D  Check whether all the missing values are filled in the dataset"
   ]
  },
  {
   "cell_type": "code",
   "execution_count": 213,
   "id": "2717cae4",
   "metadata": {
    "scrolled": true
   },
   "outputs": [
    {
     "data": {
      "text/plain": [
       "Loan_ID              0\n",
       "Gender               0\n",
       "Married              0\n",
       "Dependents           0\n",
       "Education            0\n",
       "Self_Employed        0\n",
       "ApplicantIncome      0\n",
       "CoapplicantIncome    0\n",
       "LoanAmount           0\n",
       "Loan_Amount_Term     0\n",
       "Credit_History       0\n",
       "Property_Area        0\n",
       "Loan_Status          0\n",
       "dtype: int64"
      ]
     },
     "execution_count": 213,
     "metadata": {},
     "output_type": "execute_result"
    }
   ],
   "source": [
    "df.isna().sum()"
   ]
  },
  {
   "cell_type": "markdown",
   "id": "41b232dd",
   "metadata": {},
   "source": [
    "From the above dataset it is visible that all the null values are now filled with mode value of the column for categorical data and with median value of the column for numerical data.Hence, the dataset doesn't have any null values."
   ]
  },
  {
   "cell_type": "markdown",
   "id": "0e59391d",
   "metadata": {},
   "source": [
    "<p style='text-align: center;'>===================================================================================================== </p>"
   ]
  },
  {
   "cell_type": "markdown",
   "id": "a9cf8b45",
   "metadata": {},
   "source": [
    "### <p style='text-align: center;'> Question 4 - Treat outlier and generate dummy variables"
   ]
  },
  {
   "cell_type": "markdown",
   "id": "547bf8d0",
   "metadata": {},
   "source": [
    "#### Que 4.A  Do the log transformation to 'LoanAmount' to treat outlier and show the histogram"
   ]
  },
  {
   "cell_type": "code",
   "execution_count": 214,
   "id": "e5ceff4a",
   "metadata": {},
   "outputs": [
    {
     "data": {
      "text/plain": [
       "array([[<AxesSubplot:title={'center':'LoanAmount'}>,\n",
       "        <AxesSubplot:title={'center':'LoanAmount_log'}>]], dtype=object)"
      ]
     },
     "execution_count": 214,
     "metadata": {},
     "output_type": "execute_result"
    },
    {
     "data": {
      "image/png": "[encoded data removed]",
      "text/plain": [
       "<Figure size 1296x432 with 2 Axes>"
      ]
     },
     "metadata": {
      "needs_background": "light"
     },
     "output_type": "display_data"
    }
   ],
   "source": [
    "df['LoanAmount_log']=np.log(df['LoanAmount'])\n",
    "df.iloc[:,[8,13]].hist(figsize=(18,6))"
   ]
  },
  {
   "cell_type": "markdown",
   "id": "bcb29ec1",
   "metadata": {},
   "source": [
    "After comparing the above 2 histograms, we can clearly see that the outliers of the original Loan Amount feature are being treated after log transformation. The frequency of the transformed loan amount is mainly higher within the range from 4.5 to 5 value."
   ]
  },
  {
   "cell_type": "markdown",
   "id": "d696d25d",
   "metadata": {},
   "source": [
    "#### Que 4.B Drop the Loan_ID variable as it does not have any effect on the loan status."
   ]
  },
  {
   "cell_type": "code",
   "execution_count": 215,
   "id": "af06c668",
   "metadata": {},
   "outputs": [
    {
     "data": {
      "text/html": [
       "<div>\n",
       "<style scoped>\n",
       "    .dataframe tbody tr th:only-of-type {\n",
       "        vertical-align: middle;\n",
       "    }\n",
       "\n",
       "    .dataframe tbody tr th {\n",
       "        vertical-align: top;\n",
       "    }\n",
       "\n",
       "    .dataframe thead th {\n",
       "        text-align: right;\n",
       "    }\n",
       "</style>\n",
       "<table border=\"1\" class=\"dataframe\">\n",
       "  <thead>\n",
       "    <tr style=\"text-align: right;\">\n",
       "      <th></th>\n",
       "      <th>Gender</th>\n",
       "      <th>Married</th>\n",
       "      <th>Dependents</th>\n",
       "      <th>Education</th>\n",
       "      <th>Self_Employed</th>\n",
       "      <th>ApplicantIncome</th>\n",
       "      <th>CoapplicantIncome</th>\n",
       "      <th>LoanAmount</th>\n",
       "      <th>Loan_Amount_Term</th>\n",
       "      <th>Credit_History</th>\n",
       "      <th>Property_Area</th>\n",
       "      <th>Loan_Status</th>\n",
       "      <th>LoanAmount_log</th>\n",
       "    </tr>\n",
       "  </thead>\n",
       "  <tbody>\n",
       "    <tr>\n",
       "      <th>0</th>\n",
       "      <td>Male</td>\n",
       "      <td>No</td>\n",
       "      <td>0</td>\n",
       "      <td>Graduate</td>\n",
       "      <td>No</td>\n",
       "      <td>5849</td>\n",
       "      <td>0.0</td>\n",
       "      <td>128.0</td>\n",
       "      <td>360.0</td>\n",
       "      <td>1.0</td>\n",
       "      <td>Urban</td>\n",
       "      <td>Y</td>\n",
       "      <td>4.852030</td>\n",
       "    </tr>\n",
       "    <tr>\n",
       "      <th>1</th>\n",
       "      <td>Male</td>\n",
       "      <td>Yes</td>\n",
       "      <td>1</td>\n",
       "      <td>Graduate</td>\n",
       "      <td>No</td>\n",
       "      <td>4583</td>\n",
       "      <td>1508.0</td>\n",
       "      <td>128.0</td>\n",
       "      <td>360.0</td>\n",
       "      <td>1.0</td>\n",
       "      <td>Rural</td>\n",
       "      <td>N</td>\n",
       "      <td>4.852030</td>\n",
       "    </tr>\n",
       "    <tr>\n",
       "      <th>2</th>\n",
       "      <td>Male</td>\n",
       "      <td>Yes</td>\n",
       "      <td>0</td>\n",
       "      <td>Graduate</td>\n",
       "      <td>Yes</td>\n",
       "      <td>3000</td>\n",
       "      <td>0.0</td>\n",
       "      <td>66.0</td>\n",
       "      <td>360.0</td>\n",
       "      <td>1.0</td>\n",
       "      <td>Urban</td>\n",
       "      <td>Y</td>\n",
       "      <td>4.189655</td>\n",
       "    </tr>\n",
       "    <tr>\n",
       "      <th>3</th>\n",
       "      <td>Male</td>\n",
       "      <td>Yes</td>\n",
       "      <td>0</td>\n",
       "      <td>Not Graduate</td>\n",
       "      <td>No</td>\n",
       "      <td>2583</td>\n",
       "      <td>2358.0</td>\n",
       "      <td>120.0</td>\n",
       "      <td>360.0</td>\n",
       "      <td>1.0</td>\n",
       "      <td>Urban</td>\n",
       "      <td>Y</td>\n",
       "      <td>4.787492</td>\n",
       "    </tr>\n",
       "    <tr>\n",
       "      <th>4</th>\n",
       "      <td>Male</td>\n",
       "      <td>No</td>\n",
       "      <td>0</td>\n",
       "      <td>Graduate</td>\n",
       "      <td>No</td>\n",
       "      <td>6000</td>\n",
       "      <td>0.0</td>\n",
       "      <td>141.0</td>\n",
       "      <td>360.0</td>\n",
       "      <td>1.0</td>\n",
       "      <td>Urban</td>\n",
       "      <td>Y</td>\n",
       "      <td>4.948760</td>\n",
       "    </tr>\n",
       "  </tbody>\n",
       "</table>\n",
       "</div>"
      ],
      "text/plain": [
       "  Gender Married Dependents     Education Self_Employed  ApplicantIncome  \\\n",
       "0   Male      No          0      Graduate            No             5849   \n",
       "1   Male     Yes          1      Graduate            No             4583   \n",
       "2   Male     Yes          0      Graduate           Yes             3000   \n",
       "3   Male     Yes          0  Not Graduate            No             2583   \n",
       "4   Male      No          0      Graduate            No             6000   \n",
       "\n",
       "   CoapplicantIncome  LoanAmount  Loan_Amount_Term  Credit_History  \\\n",
       "0                0.0       128.0             360.0             1.0   \n",
       "1             1508.0       128.0             360.0             1.0   \n",
       "2                0.0        66.0             360.0             1.0   \n",
       "3             2358.0       120.0             360.0             1.0   \n",
       "4                0.0       141.0             360.0             1.0   \n",
       "\n",
       "  Property_Area Loan_Status  LoanAmount_log  \n",
       "0         Urban           Y        4.852030  \n",
       "1         Rural           N        4.852030  \n",
       "2         Urban           Y        4.189655  \n",
       "3         Urban           Y        4.787492  \n",
       "4         Urban           Y        4.948760  "
      ]
     },
     "execution_count": 215,
     "metadata": {},
     "output_type": "execute_result"
    }
   ],
   "source": [
    "df = df.drop('Loan_ID', axis=1)\n",
    "df.head()"
   ]
  },
  {
   "cell_type": "markdown",
   "id": "9b0753b9",
   "metadata": {},
   "source": [
    "Above output shows the dataframe where Loan_ID column is dropped."
   ]
  },
  {
   "cell_type": "markdown",
   "id": "3eb58f34",
   "metadata": {},
   "source": [
    "#### Que 4.C Make dummy variables for the categorical variables. The dummy variable turns categorical variables into a series of 0 and 1. "
   ]
  },
  {
   "cell_type": "code",
   "execution_count": 216,
   "id": "e181f14b",
   "metadata": {},
   "outputs": [
    {
     "name": "stdout",
     "output_type": "stream",
     "text": [
      "Index(['ApplicantIncome', 'CoapplicantIncome', 'LoanAmount',\n",
      "       'Loan_Amount_Term', 'Credit_History', 'Loan_Status', 'LoanAmount_log',\n",
      "       'Gender_Female', 'Gender_Male', 'Married_No', 'Married_Yes',\n",
      "       'Dependents_0', 'Dependents_1', 'Dependents_2', 'Dependents_3+',\n",
      "       'Education_Graduate', 'Education_Not Graduate', 'Self_Employed_No',\n",
      "       'Self_Employed_Yes', 'Property_Area_Rural', 'Property_Area_Semiurban',\n",
      "       'Property_Area_Urban'],\n",
      "      dtype='object')\n"
     ]
    },
    {
     "data": {
      "text/html": [
       "<div>\n",
       "<style scoped>\n",
       "    .dataframe tbody tr th:only-of-type {\n",
       "        vertical-align: middle;\n",
       "    }\n",
       "\n",
       "    .dataframe tbody tr th {\n",
       "        vertical-align: top;\n",
       "    }\n",
       "\n",
       "    .dataframe thead th {\n",
       "        text-align: right;\n",
       "    }\n",
       "</style>\n",
       "<table border=\"1\" class=\"dataframe\">\n",
       "  <thead>\n",
       "    <tr style=\"text-align: right;\">\n",
       "      <th></th>\n",
       "      <th>ApplicantIncome</th>\n",
       "      <th>CoapplicantIncome</th>\n",
       "      <th>LoanAmount</th>\n",
       "      <th>Loan_Amount_Term</th>\n",
       "      <th>Credit_History</th>\n",
       "      <th>Loan_Status</th>\n",
       "      <th>LoanAmount_log</th>\n",
       "      <th>Gender_Female</th>\n",
       "      <th>Gender_Male</th>\n",
       "      <th>Married_No</th>\n",
       "      <th>...</th>\n",
       "      <th>Dependents_1</th>\n",
       "      <th>Dependents_2</th>\n",
       "      <th>Dependents_3+</th>\n",
       "      <th>Education_Graduate</th>\n",
       "      <th>Education_Not Graduate</th>\n",
       "      <th>Self_Employed_No</th>\n",
       "      <th>Self_Employed_Yes</th>\n",
       "      <th>Property_Area_Rural</th>\n",
       "      <th>Property_Area_Semiurban</th>\n",
       "      <th>Property_Area_Urban</th>\n",
       "    </tr>\n",
       "  </thead>\n",
       "  <tbody>\n",
       "    <tr>\n",
       "      <th>0</th>\n",
       "      <td>5849</td>\n",
       "      <td>0.0</td>\n",
       "      <td>128.0</td>\n",
       "      <td>360.0</td>\n",
       "      <td>1.0</td>\n",
       "      <td>Y</td>\n",
       "      <td>4.852030</td>\n",
       "      <td>0</td>\n",
       "      <td>1</td>\n",
       "      <td>1</td>\n",
       "      <td>...</td>\n",
       "      <td>0</td>\n",
       "      <td>0</td>\n",
       "      <td>0</td>\n",
       "      <td>1</td>\n",
       "      <td>0</td>\n",
       "      <td>1</td>\n",
       "      <td>0</td>\n",
       "      <td>0</td>\n",
       "      <td>0</td>\n",
       "      <td>1</td>\n",
       "    </tr>\n",
       "    <tr>\n",
       "      <th>1</th>\n",
       "      <td>4583</td>\n",
       "      <td>1508.0</td>\n",
       "      <td>128.0</td>\n",
       "      <td>360.0</td>\n",
       "      <td>1.0</td>\n",
       "      <td>N</td>\n",
       "      <td>4.852030</td>\n",
       "      <td>0</td>\n",
       "      <td>1</td>\n",
       "      <td>0</td>\n",
       "      <td>...</td>\n",
       "      <td>1</td>\n",
       "      <td>0</td>\n",
       "      <td>0</td>\n",
       "      <td>1</td>\n",
       "      <td>0</td>\n",
       "      <td>1</td>\n",
       "      <td>0</td>\n",
       "      <td>1</td>\n",
       "      <td>0</td>\n",
       "      <td>0</td>\n",
       "    </tr>\n",
       "    <tr>\n",
       "      <th>2</th>\n",
       "      <td>3000</td>\n",
       "      <td>0.0</td>\n",
       "      <td>66.0</td>\n",
       "      <td>360.0</td>\n",
       "      <td>1.0</td>\n",
       "      <td>Y</td>\n",
       "      <td>4.189655</td>\n",
       "      <td>0</td>\n",
       "      <td>1</td>\n",
       "      <td>0</td>\n",
       "      <td>...</td>\n",
       "      <td>0</td>\n",
       "      <td>0</td>\n",
       "      <td>0</td>\n",
       "      <td>1</td>\n",
       "      <td>0</td>\n",
       "      <td>0</td>\n",
       "      <td>1</td>\n",
       "      <td>0</td>\n",
       "      <td>0</td>\n",
       "      <td>1</td>\n",
       "    </tr>\n",
       "    <tr>\n",
       "      <th>3</th>\n",
       "      <td>2583</td>\n",
       "      <td>2358.0</td>\n",
       "      <td>120.0</td>\n",
       "      <td>360.0</td>\n",
       "      <td>1.0</td>\n",
       "      <td>Y</td>\n",
       "      <td>4.787492</td>\n",
       "      <td>0</td>\n",
       "      <td>1</td>\n",
       "      <td>0</td>\n",
       "      <td>...</td>\n",
       "      <td>0</td>\n",
       "      <td>0</td>\n",
       "      <td>0</td>\n",
       "      <td>0</td>\n",
       "      <td>1</td>\n",
       "      <td>1</td>\n",
       "      <td>0</td>\n",
       "      <td>0</td>\n",
       "      <td>0</td>\n",
       "      <td>1</td>\n",
       "    </tr>\n",
       "    <tr>\n",
       "      <th>4</th>\n",
       "      <td>6000</td>\n",
       "      <td>0.0</td>\n",
       "      <td>141.0</td>\n",
       "      <td>360.0</td>\n",
       "      <td>1.0</td>\n",
       "      <td>Y</td>\n",
       "      <td>4.948760</td>\n",
       "      <td>0</td>\n",
       "      <td>1</td>\n",
       "      <td>1</td>\n",
       "      <td>...</td>\n",
       "      <td>0</td>\n",
       "      <td>0</td>\n",
       "      <td>0</td>\n",
       "      <td>1</td>\n",
       "      <td>0</td>\n",
       "      <td>1</td>\n",
       "      <td>0</td>\n",
       "      <td>0</td>\n",
       "      <td>0</td>\n",
       "      <td>1</td>\n",
       "    </tr>\n",
       "  </tbody>\n",
       "</table>\n",
       "<p>5 rows × 22 columns</p>\n",
       "</div>"
      ],
      "text/plain": [
       "   ApplicantIncome  CoapplicantIncome  LoanAmount  Loan_Amount_Term  \\\n",
       "0             5849                0.0       128.0             360.0   \n",
       "1             4583             1508.0       128.0             360.0   \n",
       "2             3000                0.0        66.0             360.0   \n",
       "3             2583             2358.0       120.0             360.0   \n",
       "4             6000                0.0       141.0             360.0   \n",
       "\n",
       "   Credit_History Loan_Status  LoanAmount_log  Gender_Female  Gender_Male  \\\n",
       "0             1.0           Y        4.852030              0            1   \n",
       "1             1.0           N        4.852030              0            1   \n",
       "2             1.0           Y        4.189655              0            1   \n",
       "3             1.0           Y        4.787492              0            1   \n",
       "4             1.0           Y        4.948760              0            1   \n",
       "\n",
       "   Married_No  ...  Dependents_1  Dependents_2  Dependents_3+  \\\n",
       "0           1  ...             0             0              0   \n",
       "1           0  ...             1             0              0   \n",
       "2           0  ...             0             0              0   \n",
       "3           0  ...             0             0              0   \n",
       "4           1  ...             0             0              0   \n",
       "\n",
       "   Education_Graduate  Education_Not Graduate  Self_Employed_No  \\\n",
       "0                   1                       0                 1   \n",
       "1                   1                       0                 1   \n",
       "2                   1                       0                 0   \n",
       "3                   0                       1                 1   \n",
       "4                   1                       0                 1   \n",
       "\n",
       "   Self_Employed_Yes  Property_Area_Rural  Property_Area_Semiurban  \\\n",
       "0                  0                    0                        0   \n",
       "1                  0                    1                        0   \n",
       "2                  1                    0                        0   \n",
       "3                  0                    0                        0   \n",
       "4                  0                    0                        0   \n",
       "\n",
       "   Property_Area_Urban  \n",
       "0                    1  \n",
       "1                    0  \n",
       "2                    1  \n",
       "3                    1  \n",
       "4                    1  \n",
       "\n",
       "[5 rows x 22 columns]"
      ]
     },
     "execution_count": 216,
     "metadata": {},
     "output_type": "execute_result"
    }
   ],
   "source": [
    "df = pd.get_dummies(data=df, columns=['Gender', 'Married', 'Dependents','Education','Self_Employed','Property_Area',])\n",
    "print(df.columns)\n",
    "df.head()"
   ]
  },
  {
   "cell_type": "markdown",
   "id": "4bbd3a39",
   "metadata": {},
   "source": [
    "Observing above dataframe, we can clearly see that dummy variables are created for all the categorical features and appended in the same dataframe. We have excluded creating dummies for **\"Loan_Status\"** column which is our target variable.\n",
    "\n",
    "The dummy variables are generated as follows:\n",
    "- Gender is replaced with 2 new features as Gender_Male & Gender_Female.\n",
    "\n",
    "- Similarly, other columns having categorical values are replaced with number of unique values contained in a particular column.\n",
    "\n",
    "- Dependents is replaced with the 3 new columns as it has 3 different values in the original data such as 0, 1, and 2."
   ]
  },
  {
   "cell_type": "markdown",
   "id": "56b82fa6",
   "metadata": {},
   "source": [
    "<p style='text-align: center;'>===================================================================================================== </p>"
   ]
  },
  {
   "cell_type": "markdown",
   "id": "81a3168f",
   "metadata": {},
   "source": [
    "### <p style='text-align: center;'>Question 5. Discover through feature engineering "
   ]
  },
  {
   "cell_type": "markdown",
   "id": "3be67d47",
   "metadata": {},
   "source": [
    "#### Que 5.A Create a new feature “Total Income” which is the combine the Applicant Income and Coapplicant Income. Take the log transformation to make the distribution close to normal."
   ]
  },
  {
   "cell_type": "markdown",
   "id": "37e077a3",
   "metadata": {},
   "source": [
    "- creating new feature **Total_income**"
   ]
  },
  {
   "cell_type": "code",
   "execution_count": 217,
   "id": "c5c138b1",
   "metadata": {},
   "outputs": [],
   "source": [
    "df['Total_income'] = df['ApplicantIncome'] + df['CoapplicantIncome']"
   ]
  },
  {
   "cell_type": "code",
   "execution_count": 218,
   "id": "c61a72ae",
   "metadata": {
    "scrolled": true
   },
   "outputs": [
    {
     "data": {
      "text/plain": [
       "0    5849.0\n",
       "1    6091.0\n",
       "2    3000.0\n",
       "3    4941.0\n",
       "4    6000.0\n",
       "Name: Total_income, dtype: float64"
      ]
     },
     "execution_count": 218,
     "metadata": {},
     "output_type": "execute_result"
    }
   ],
   "source": [
    "df['Total_income'].head()"
   ]
  },
  {
   "cell_type": "code",
   "execution_count": 219,
   "id": "ad520646",
   "metadata": {
    "scrolled": true
   },
   "outputs": [
    {
     "data": {
      "text/plain": [
       "0    8.674026\n",
       "1    8.714568\n",
       "2    8.006368\n",
       "3    8.505323\n",
       "4    8.699515\n",
       "Name: Total_income_log, dtype: float64"
      ]
     },
     "execution_count": 219,
     "metadata": {},
     "output_type": "execute_result"
    }
   ],
   "source": [
    "#log transformation of total_income and plotting the histogram\n",
    "df['Total_income_log']=np.log(df['Total_income'])\n",
    "df['Total_income_log'].head()"
   ]
  },
  {
   "cell_type": "markdown",
   "id": "4cd5763f",
   "metadata": {},
   "source": [
    "Here we can see that TotalIncome is calculated by adding Applicant Income with Coapplicant Income and trasformed to log. After the log transformation, the values are seems normally distributed as compared to the originally calculated TotalIncome."
   ]
  },
  {
   "cell_type": "markdown",
   "id": "936a9134",
   "metadata": {},
   "source": [
    "#### Que 5.b Create a new feature “EMI” which is the monthly amount to be paid by the applicant to repay the loan. "
   ]
  },
  {
   "cell_type": "code",
   "execution_count": 220,
   "id": "021bad4b",
   "metadata": {},
   "outputs": [
    {
     "data": {
      "text/plain": [
       "0    0.355556\n",
       "1    0.355556\n",
       "2    0.183333\n",
       "3    0.333333\n",
       "4    0.391667\n",
       "Name: EMI, dtype: float64"
      ]
     },
     "execution_count": 220,
     "metadata": {},
     "output_type": "execute_result"
    }
   ],
   "source": [
    "#creating new feature EMI\n",
    "df['EMI'] = ((df['LoanAmount']/df['Loan_Amount_Term']))\n",
    "df['EMI'].head()"
   ]
  },
  {
   "cell_type": "markdown",
   "id": "b9174843",
   "metadata": {},
   "source": [
    "EMI value can be calculated dividing LoanAmount with Loan_Amount_Term "
   ]
  },
  {
   "cell_type": "markdown",
   "id": "89b75d9f",
   "metadata": {},
   "source": [
    "#### Que 5.c Create a new feature “Balance Income” which is the income left after the EMI has been paid."
   ]
  },
  {
   "cell_type": "code",
   "execution_count": 221,
   "id": "0635ab1b",
   "metadata": {},
   "outputs": [
    {
     "data": {
      "text/html": [
       "<div>\n",
       "<style scoped>\n",
       "    .dataframe tbody tr th:only-of-type {\n",
       "        vertical-align: middle;\n",
       "    }\n",
       "\n",
       "    .dataframe tbody tr th {\n",
       "        vertical-align: top;\n",
       "    }\n",
       "\n",
       "    .dataframe thead th {\n",
       "        text-align: right;\n",
       "    }\n",
       "</style>\n",
       "<table border=\"1\" class=\"dataframe\">\n",
       "  <thead>\n",
       "    <tr style=\"text-align: right;\">\n",
       "      <th></th>\n",
       "      <th>ApplicantIncome</th>\n",
       "      <th>CoapplicantIncome</th>\n",
       "      <th>LoanAmount</th>\n",
       "      <th>Loan_Amount_Term</th>\n",
       "      <th>Credit_History</th>\n",
       "      <th>Loan_Status</th>\n",
       "      <th>LoanAmount_log</th>\n",
       "      <th>Gender_Female</th>\n",
       "      <th>Gender_Male</th>\n",
       "      <th>Married_No</th>\n",
       "      <th>...</th>\n",
       "      <th>Education_Not Graduate</th>\n",
       "      <th>Self_Employed_No</th>\n",
       "      <th>Self_Employed_Yes</th>\n",
       "      <th>Property_Area_Rural</th>\n",
       "      <th>Property_Area_Semiurban</th>\n",
       "      <th>Property_Area_Urban</th>\n",
       "      <th>Total_income</th>\n",
       "      <th>Total_income_log</th>\n",
       "      <th>EMI</th>\n",
       "      <th>Balance_Income</th>\n",
       "    </tr>\n",
       "  </thead>\n",
       "  <tbody>\n",
       "    <tr>\n",
       "      <th>0</th>\n",
       "      <td>5849</td>\n",
       "      <td>0.0</td>\n",
       "      <td>128.0</td>\n",
       "      <td>360.0</td>\n",
       "      <td>1.0</td>\n",
       "      <td>Y</td>\n",
       "      <td>4.852030</td>\n",
       "      <td>0</td>\n",
       "      <td>1</td>\n",
       "      <td>1</td>\n",
       "      <td>...</td>\n",
       "      <td>0</td>\n",
       "      <td>1</td>\n",
       "      <td>0</td>\n",
       "      <td>0</td>\n",
       "      <td>0</td>\n",
       "      <td>1</td>\n",
       "      <td>5849.0</td>\n",
       "      <td>8.674026</td>\n",
       "      <td>0.355556</td>\n",
       "      <td>5848.644444</td>\n",
       "    </tr>\n",
       "    <tr>\n",
       "      <th>1</th>\n",
       "      <td>4583</td>\n",
       "      <td>1508.0</td>\n",
       "      <td>128.0</td>\n",
       "      <td>360.0</td>\n",
       "      <td>1.0</td>\n",
       "      <td>N</td>\n",
       "      <td>4.852030</td>\n",
       "      <td>0</td>\n",
       "      <td>1</td>\n",
       "      <td>0</td>\n",
       "      <td>...</td>\n",
       "      <td>0</td>\n",
       "      <td>1</td>\n",
       "      <td>0</td>\n",
       "      <td>1</td>\n",
       "      <td>0</td>\n",
       "      <td>0</td>\n",
       "      <td>6091.0</td>\n",
       "      <td>8.714568</td>\n",
       "      <td>0.355556</td>\n",
       "      <td>6090.644444</td>\n",
       "    </tr>\n",
       "    <tr>\n",
       "      <th>2</th>\n",
       "      <td>3000</td>\n",
       "      <td>0.0</td>\n",
       "      <td>66.0</td>\n",
       "      <td>360.0</td>\n",
       "      <td>1.0</td>\n",
       "      <td>Y</td>\n",
       "      <td>4.189655</td>\n",
       "      <td>0</td>\n",
       "      <td>1</td>\n",
       "      <td>0</td>\n",
       "      <td>...</td>\n",
       "      <td>0</td>\n",
       "      <td>0</td>\n",
       "      <td>1</td>\n",
       "      <td>0</td>\n",
       "      <td>0</td>\n",
       "      <td>1</td>\n",
       "      <td>3000.0</td>\n",
       "      <td>8.006368</td>\n",
       "      <td>0.183333</td>\n",
       "      <td>2999.816667</td>\n",
       "    </tr>\n",
       "    <tr>\n",
       "      <th>3</th>\n",
       "      <td>2583</td>\n",
       "      <td>2358.0</td>\n",
       "      <td>120.0</td>\n",
       "      <td>360.0</td>\n",
       "      <td>1.0</td>\n",
       "      <td>Y</td>\n",
       "      <td>4.787492</td>\n",
       "      <td>0</td>\n",
       "      <td>1</td>\n",
       "      <td>0</td>\n",
       "      <td>...</td>\n",
       "      <td>1</td>\n",
       "      <td>1</td>\n",
       "      <td>0</td>\n",
       "      <td>0</td>\n",
       "      <td>0</td>\n",
       "      <td>1</td>\n",
       "      <td>4941.0</td>\n",
       "      <td>8.505323</td>\n",
       "      <td>0.333333</td>\n",
       "      <td>4940.666667</td>\n",
       "    </tr>\n",
       "    <tr>\n",
       "      <th>4</th>\n",
       "      <td>6000</td>\n",
       "      <td>0.0</td>\n",
       "      <td>141.0</td>\n",
       "      <td>360.0</td>\n",
       "      <td>1.0</td>\n",
       "      <td>Y</td>\n",
       "      <td>4.948760</td>\n",
       "      <td>0</td>\n",
       "      <td>1</td>\n",
       "      <td>1</td>\n",
       "      <td>...</td>\n",
       "      <td>0</td>\n",
       "      <td>1</td>\n",
       "      <td>0</td>\n",
       "      <td>0</td>\n",
       "      <td>0</td>\n",
       "      <td>1</td>\n",
       "      <td>6000.0</td>\n",
       "      <td>8.699515</td>\n",
       "      <td>0.391667</td>\n",
       "      <td>5999.608333</td>\n",
       "    </tr>\n",
       "  </tbody>\n",
       "</table>\n",
       "<p>5 rows × 26 columns</p>\n",
       "</div>"
      ],
      "text/plain": [
       "   ApplicantIncome  CoapplicantIncome  LoanAmount  Loan_Amount_Term  \\\n",
       "0             5849                0.0       128.0             360.0   \n",
       "1             4583             1508.0       128.0             360.0   \n",
       "2             3000                0.0        66.0             360.0   \n",
       "3             2583             2358.0       120.0             360.0   \n",
       "4             6000                0.0       141.0             360.0   \n",
       "\n",
       "   Credit_History Loan_Status  LoanAmount_log  Gender_Female  Gender_Male  \\\n",
       "0             1.0           Y        4.852030              0            1   \n",
       "1             1.0           N        4.852030              0            1   \n",
       "2             1.0           Y        4.189655              0            1   \n",
       "3             1.0           Y        4.787492              0            1   \n",
       "4             1.0           Y        4.948760              0            1   \n",
       "\n",
       "   Married_No  ...  Education_Not Graduate  Self_Employed_No  \\\n",
       "0           1  ...                       0                 1   \n",
       "1           0  ...                       0                 1   \n",
       "2           0  ...                       0                 0   \n",
       "3           0  ...                       1                 1   \n",
       "4           1  ...                       0                 1   \n",
       "\n",
       "   Self_Employed_Yes  Property_Area_Rural  Property_Area_Semiurban  \\\n",
       "0                  0                    0                        0   \n",
       "1                  0                    1                        0   \n",
       "2                  1                    0                        0   \n",
       "3                  0                    0                        0   \n",
       "4                  0                    0                        0   \n",
       "\n",
       "   Property_Area_Urban  Total_income  Total_income_log       EMI  \\\n",
       "0                    1        5849.0          8.674026  0.355556   \n",
       "1                    0        6091.0          8.714568  0.355556   \n",
       "2                    1        3000.0          8.006368  0.183333   \n",
       "3                    1        4941.0          8.505323  0.333333   \n",
       "4                    1        6000.0          8.699515  0.391667   \n",
       "\n",
       "   Balance_Income  \n",
       "0     5848.644444  \n",
       "1     6090.644444  \n",
       "2     2999.816667  \n",
       "3     4940.666667  \n",
       "4     5999.608333  \n",
       "\n",
       "[5 rows x 26 columns]"
      ]
     },
     "execution_count": 221,
     "metadata": {},
     "output_type": "execute_result"
    }
   ],
   "source": [
    "df['Balance_Income'] = df['Total_income'] - df['EMI']\n",
    "df.head()"
   ]
  },
  {
   "cell_type": "markdown",
   "id": "79b1041c",
   "metadata": {},
   "source": [
    "New feature **Balance_Income** which represents the balance amount after deducting EMI from Total_income"
   ]
  },
  {
   "cell_type": "markdown",
   "id": "ae538c18",
   "metadata": {},
   "source": [
    "##### Que 5.d Drop the variables which we used to create these new features."
   ]
  },
  {
   "cell_type": "code",
   "execution_count": 222,
   "id": "1bfc0e17",
   "metadata": {},
   "outputs": [
    {
     "data": {
      "text/plain": [
       "Index(['Credit_History', 'Loan_Status', 'LoanAmount_log', 'Gender_Female',\n",
       "       'Gender_Male', 'Married_No', 'Married_Yes', 'Dependents_0',\n",
       "       'Dependents_1', 'Dependents_2', 'Dependents_3+', 'Education_Graduate',\n",
       "       'Education_Not Graduate', 'Self_Employed_No', 'Self_Employed_Yes',\n",
       "       'Property_Area_Rural', 'Property_Area_Semiurban', 'Property_Area_Urban',\n",
       "       'Total_income', 'Total_income_log', 'EMI', 'Balance_Income'],\n",
       "      dtype='object')"
      ]
     },
     "execution_count": 222,
     "metadata": {},
     "output_type": "execute_result"
    }
   ],
   "source": [
    "df=df.drop(['ApplicantIncome', 'CoapplicantIncome', 'LoanAmount', 'Loan_Amount_Term'], axis=1)\n",
    "df.columns"
   ]
  },
  {
   "cell_type": "markdown",
   "id": "26ad06b7",
   "metadata": {},
   "source": [
    "From the above output we can see that below columns are dropped as those are not needed now.\n",
    "- ApplicantIncome\n",
    "- CoapplicantIncome\n",
    "- LoanAmount\n",
    "- Loan_Amount_Term"
   ]
  },
  {
   "cell_type": "markdown",
   "id": "d2c77956",
   "metadata": {},
   "source": [
    "<p style='text-align: center;'>===================================================================================================== </p>"
   ]
  },
  {
   "cell_type": "markdown",
   "id": "c888d927",
   "metadata": {},
   "source": [
    "### <p style='text-align: center;'>Question 6. Prepare data before classification"
   ]
  },
  {
   "cell_type": "markdown",
   "id": "c73913aa",
   "metadata": {},
   "source": [
    "#### Que 6.A  Drop target variable from the training dataset and save it in another dataset."
   ]
  },
  {
   "cell_type": "code",
   "execution_count": 223,
   "id": "3af28e43",
   "metadata": {},
   "outputs": [],
   "source": [
    "X = df.drop(['Loan_Status'],axis=1)\n",
    "y = df['Loan_Status']"
   ]
  },
  {
   "cell_type": "markdown",
   "id": "9d2ba033",
   "metadata": {},
   "source": [
    "Here we are creating training dataset X which doesn't consist target variable Loan_Status. y is initialized with the target variable."
   ]
  },
  {
   "cell_type": "markdown",
   "id": "12566dce",
   "metadata": {},
   "source": [
    "#### Que 6.B Divide train dataset into training and validation part."
   ]
  },
  {
   "cell_type": "code",
   "execution_count": 224,
   "id": "36a2ca83",
   "metadata": {},
   "outputs": [],
   "source": [
    "X_train, X_test, y_train, y_test = train_test_split(X,y, train_size=0.8, random_state=10)"
   ]
  },
  {
   "cell_type": "markdown",
   "id": "e781a84a",
   "metadata": {},
   "source": [
    "We are splitting the dataset X into 80:20 ratio, where 20% data is seperated for validation and the rest 80% is kept for training."
   ]
  },
  {
   "cell_type": "code",
   "execution_count": 225,
   "id": "5e8c0ec0",
   "metadata": {},
   "outputs": [
    {
     "name": "stdout",
     "output_type": "stream",
     "text": [
      "training (491, 21)\n",
      "Validation/Testing (123, 21)\n"
     ]
    }
   ],
   "source": [
    "print(\"training\",X_train.shape)\n",
    "print(\"Validation/Testing\",X_test.shape) "
   ]
  },
  {
   "cell_type": "markdown",
   "id": "0f12b056",
   "metadata": {},
   "source": [
    "##### As you can see we have splitted the data into two parts:\n",
    "* training - 60% (491 records)\n",
    "* validation/testing - 20% (123 records)"
   ]
  },
  {
   "cell_type": "markdown",
   "id": "4fb6e67c",
   "metadata": {},
   "source": [
    "<p style='text-align: center;'>===================================================================================================== </p>"
   ]
  },
  {
   "cell_type": "markdown",
   "id": "876368a4",
   "metadata": {},
   "source": [
    "### <p style='text-align: center;'>Question 7. Apply logistic regression"
   ]
  },
  {
   "cell_type": "markdown",
   "id": "34524581",
   "metadata": {},
   "source": [
    "#### Que 7.A Import LogisticRegression and accuracy_score from sklearn and fit the logistic regression model."
   ]
  },
  {
   "cell_type": "code",
   "execution_count": 226,
   "id": "9674ff41",
   "metadata": {},
   "outputs": [
    {
     "name": "stdout",
     "output_type": "stream",
     "text": [
      "Wall time: 64.7 ms\n"
     ]
    },
    {
     "name": "stderr",
     "output_type": "stream",
     "text": [
      "C:\\Users\\jinal\\anaconda3\\lib\\site-packages\\sklearn\\linear_model\\_logistic.py:763: ConvergenceWarning: lbfgs failed to converge (status=1):\n",
      "STOP: TOTAL NO. of ITERATIONS REACHED LIMIT.\n",
      "\n",
      "Increase the number of iterations (max_iter) or scale the data as shown in:\n",
      "    https://scikit-learn.org/stable/modules/preprocessing.html\n",
      "Please also refer to the documentation for alternative solver options:\n",
      "    https://scikit-learn.org/stable/modules/linear_model.html#logistic-regression\n",
      "  n_iter_i = _check_optimize_result(\n"
     ]
    },
    {
     "data": {
      "text/plain": [
       "LogisticRegression()"
      ]
     },
     "execution_count": 226,
     "metadata": {},
     "output_type": "execute_result"
    }
   ],
   "source": [
    "lr_model = linear_model.LogisticRegression()\n",
    "%time lr_model.fit(X_train, y_train)"
   ]
  },
  {
   "cell_type": "markdown",
   "id": "bed3e59b",
   "metadata": {},
   "source": [
    "Here, we have fitted Logistic classifier using training data </br>\n",
    "***Wall time*** represents the time taken by the Logistic model in training."
   ]
  },
  {
   "cell_type": "markdown",
   "id": "3ff4808e",
   "metadata": {},
   "source": [
    "#### Que 7. B predict the Loan_Status for validation set and calculate its accuracy."
   ]
  },
  {
   "cell_type": "code",
   "execution_count": 227,
   "id": "45640045",
   "metadata": {},
   "outputs": [],
   "source": [
    "y_pred = lr_model.predict(X_test)"
   ]
  },
  {
   "cell_type": "markdown",
   "id": "d9af4fd9",
   "metadata": {},
   "source": [
    "Predicting target variable for testing(validation) dataset."
   ]
  },
  {
   "cell_type": "markdown",
   "id": "07e3d6cd",
   "metadata": {},
   "source": [
    "- Evaluating accuracy score"
   ]
  },
  {
   "cell_type": "code",
   "execution_count": 228,
   "id": "82551fbb",
   "metadata": {},
   "outputs": [
    {
     "name": "stdout",
     "output_type": "stream",
     "text": [
      "Accurracy score of Logistic Regression is 79.67479674796748%\n"
     ]
    }
   ],
   "source": [
    "score = metrics.accuracy_score(y_test, y_pred)\n",
    "print(\"Accurracy score of Logistic Regression is {}%\".format(score*100))"
   ]
  },
  {
   "cell_type": "markdown",
   "id": "9173252a",
   "metadata": {},
   "source": [
    "- creating confusion matrix"
   ]
  },
  {
   "cell_type": "code",
   "execution_count": 229,
   "id": "aafdb295",
   "metadata": {},
   "outputs": [
    {
     "data": {
      "text/plain": [
       "array([[12, 24],\n",
       "       [ 1, 86]], dtype=int64)"
      ]
     },
     "execution_count": 229,
     "metadata": {},
     "output_type": "execute_result"
    }
   ],
   "source": [
    "metrics.confusion_matrix(y_test, y_pred)"
   ]
  },
  {
   "cell_type": "markdown",
   "id": "6142a9ff",
   "metadata": {},
   "source": [
    "As per the above confusion matrix, we can say that out of 123 predictions we have received 12 True positive, 24 false positive, 1 false negative and 86 True negative. "
   ]
  },
  {
   "cell_type": "markdown",
   "id": "437a329e",
   "metadata": {},
   "source": [
    "- generating classification report"
   ]
  },
  {
   "cell_type": "code",
   "execution_count": 230,
   "id": "3f4641d4",
   "metadata": {},
   "outputs": [
    {
     "name": "stdout",
     "output_type": "stream",
     "text": [
      "              precision    recall  f1-score   support\n",
      "\n",
      "           N       0.33      0.92      0.49        13\n",
      "           Y       0.99      0.78      0.87       110\n",
      "\n",
      "    accuracy                           0.80       123\n",
      "   macro avg       0.66      0.85      0.68       123\n",
      "weighted avg       0.92      0.80      0.83       123\n",
      "\n"
     ]
    }
   ],
   "source": [
    "print(metrics.classification_report(y_pred, y_test))"
   ]
  },
  {
   "cell_type": "markdown",
   "id": "0d657822",
   "metadata": {},
   "source": [
    "Classification report of LogisticClassifier depicts that:\n",
    "- Model has made 99% correct positive prediction out of total positive predictions. **Precision**\n",
    "- Model has predicted 78% correct positive relative to total actual positive. **Recall**\n",
    "- f1-score with value 0.87 is quite good considering it much closer to 1.\n",
    "\n",
    "Note : True Positive here stands for Loan_status=Y, which mean loan is approved."
   ]
  },
  {
   "cell_type": "markdown",
   "id": "d981a861",
   "metadata": {},
   "source": [
    "<p style='text-align: center;'>===================================================================================================== </p>"
   ]
  },
  {
   "cell_type": "markdown",
   "id": "2aa82ec2",
   "metadata": {},
   "source": [
    "### <p style='text-align: center;'>Question 8. Apply Perform Decision Tree model."
   ]
  },
  {
   "cell_type": "markdown",
   "id": "0a636eb9",
   "metadata": {},
   "source": [
    "##### Que 8.A Train the model with the help of DecisionTreeClassifier class of sklearn."
   ]
  },
  {
   "cell_type": "markdown",
   "id": "d77ec822",
   "metadata": {},
   "source": [
    "***Training the model***"
   ]
  },
  {
   "cell_type": "code",
   "execution_count": 231,
   "id": "10a7e0e8",
   "metadata": {},
   "outputs": [
    {
     "name": "stdout",
     "output_type": "stream",
     "text": [
      "Wall time: 9.13 ms\n"
     ]
    },
    {
     "data": {
      "text/plain": [
       "DecisionTreeClassifier()"
      ]
     },
     "execution_count": 231,
     "metadata": {},
     "output_type": "execute_result"
    }
   ],
   "source": [
    "dt_model = DecisionTreeClassifier()\n",
    "%time dt_model.fit(X_train, y_train)"
   ]
  },
  {
   "cell_type": "markdown",
   "id": "a058a2d4",
   "metadata": {},
   "source": [
    "***Wall time of DecisionTreeClassifier model in training is just 3ms, which is faster than logistic model.***"
   ]
  },
  {
   "cell_type": "code",
   "execution_count": 232,
   "id": "b93aba30",
   "metadata": {},
   "outputs": [],
   "source": [
    "# predicting on test data\n",
    "y_pred = dt_model.predict(X_test)"
   ]
  },
  {
   "cell_type": "markdown",
   "id": "ded23041",
   "metadata": {},
   "source": [
    "##### Que 8.B Get the accuracy score, confusion matrix and classification report:"
   ]
  },
  {
   "cell_type": "markdown",
   "id": "277fb821",
   "metadata": {},
   "source": [
    "***evaluating accuracy score***"
   ]
  },
  {
   "cell_type": "code",
   "execution_count": 233,
   "id": "b393a412",
   "metadata": {},
   "outputs": [
    {
     "name": "stdout",
     "output_type": "stream",
     "text": [
      "Accurracy score of DecisionTreeClassifier is 68.29268292682927%\n"
     ]
    }
   ],
   "source": [
    "score = metrics.accuracy_score(y_test, y_pred)\n",
    "print(\"Accurracy score of DecisionTreeClassifier is {}%\".format(score*100))"
   ]
  },
  {
   "cell_type": "markdown",
   "id": "d30ddf9b",
   "metadata": {},
   "source": [
    "***With DecisionTreeClassifier accuracy is a bit low (viz 69.1%) in comparision to Logistic.***"
   ]
  },
  {
   "cell_type": "code",
   "execution_count": 234,
   "id": "ed1fac51",
   "metadata": {
    "scrolled": true
   },
   "outputs": [
    {
     "data": {
      "text/plain": [
       "array([[13, 23],\n",
       "       [16, 71]], dtype=int64)"
      ]
     },
     "execution_count": 234,
     "metadata": {},
     "output_type": "execute_result"
    }
   ],
   "source": [
    "# creating confusion matrix\n",
    "metrics.confusion_matrix(y_test, y_pred)"
   ]
  },
  {
   "cell_type": "markdown",
   "id": "24f14369",
   "metadata": {},
   "source": [
    "##### Creating classification report"
   ]
  },
  {
   "cell_type": "code",
   "execution_count": 235,
   "id": "2bccc752",
   "metadata": {},
   "outputs": [
    {
     "name": "stdout",
     "output_type": "stream",
     "text": [
      "              precision    recall  f1-score   support\n",
      "\n",
      "           N       0.36      0.45      0.40        29\n",
      "           Y       0.82      0.76      0.78        94\n",
      "\n",
      "    accuracy                           0.68       123\n",
      "   macro avg       0.59      0.60      0.59       123\n",
      "weighted avg       0.71      0.68      0.69       123\n",
      "\n"
     ]
    }
   ],
   "source": [
    "print(metrics.classification_report(y_pred, y_test))"
   ]
  },
  {
   "cell_type": "markdown",
   "id": "8db14f7a",
   "metadata": {},
   "source": [
    "Classification report of DecisionTreeClassifier depicts that:\n",
    "- Model has made 82% correct positive prediction out of total positive predictions. **Precision**\n",
    "- Model has predicted 76% correct positive relative to total actual positive. **Recall**\n",
    "- f1-score with value 0.78 is quite okay because logistic classifier was having better f1-score.\n",
    "\n",
    "Note : True Positive here stands for Loan_status=Y, which mean loan is approved."
   ]
  },
  {
   "cell_type": "markdown",
   "id": "37850b77",
   "metadata": {},
   "source": [
    "###  Additionally, Let's try to fit same dataset using RandomForest model and obtain its accuracy"
   ]
  },
  {
   "cell_type": "code",
   "execution_count": 236,
   "id": "1e9106cd",
   "metadata": {},
   "outputs": [
    {
     "name": "stdout",
     "output_type": "stream",
     "text": [
      "Wall time: 37.7 ms\n"
     ]
    },
    {
     "data": {
      "text/plain": [
       "RandomForestClassifier(n_estimators=10)"
      ]
     },
     "execution_count": 236,
     "metadata": {},
     "output_type": "execute_result"
    }
   ],
   "source": [
    "rfc_model = RandomForestClassifier(n_estimators=10)\n",
    "%time rfc_model.fit(X_train, y_train)"
   ]
  },
  {
   "cell_type": "markdown",
   "id": "f6aa229b",
   "metadata": {},
   "source": [
    "***Wall time of RandomForestClassifier model is same as logistic model.***"
   ]
  },
  {
   "cell_type": "code",
   "execution_count": 237,
   "id": "662ca558",
   "metadata": {},
   "outputs": [],
   "source": [
    "# predicting on test data\n",
    "y_pred = rfc_model.predict(X_test)"
   ]
  },
  {
   "cell_type": "code",
   "execution_count": 238,
   "id": "e780f9dc",
   "metadata": {},
   "outputs": [
    {
     "name": "stdout",
     "output_type": "stream",
     "text": [
      "Accurracy score of RandomForestClassifier with estimators=10 is 78.86178861788618%\n"
     ]
    }
   ],
   "source": [
    "# evaluating accuracy score\n",
    "score = metrics.accuracy_score(y_test, y_pred)\n",
    "print(\"Accurracy score of RandomForestClassifier with estimators=10 is {}%\".format(score*100))"
   ]
  },
  {
   "cell_type": "markdown",
   "id": "1e61442c",
   "metadata": {},
   "source": [
    "##### Creating classification report"
   ]
  },
  {
   "cell_type": "code",
   "execution_count": 239,
   "id": "2d0384d8",
   "metadata": {},
   "outputs": [
    {
     "name": "stdout",
     "output_type": "stream",
     "text": [
      "              precision    recall  f1-score   support\n",
      "\n",
      "           N       0.50      0.69      0.58        26\n",
      "           Y       0.91      0.81      0.86        97\n",
      "\n",
      "    accuracy                           0.79       123\n",
      "   macro avg       0.70      0.75      0.72       123\n",
      "weighted avg       0.82      0.79      0.80       123\n",
      "\n"
     ]
    }
   ],
   "source": [
    "print(metrics.classification_report(y_pred, y_test))"
   ]
  },
  {
   "cell_type": "markdown",
   "id": "927c1ff0",
   "metadata": {},
   "source": [
    "Classification report of RandomForest depicts that:\n",
    "- Model has made 85% correct positive prediction out of total positive predictions. **Precision**\n",
    "- Model has predicted 78% correct positive relative to total actual positive. **Recall**\n",
    "- f1-score with value 0.81 is quite good considering it much closer to 1.\n",
    "\n",
    "Note : True Positive here stands for Loan_status=Y, which mean loan is approved."
   ]
  },
  {
   "cell_type": "markdown",
   "id": "bf0e7486",
   "metadata": {},
   "source": [
    "***Initially with n_estimator=10, we are getting 73.9% of accuracy, let's try to tune up this model via tweaking n_estimator argument.***"
   ]
  },
  {
   "cell_type": "code",
   "execution_count": 265,
   "id": "53a426c8",
   "metadata": {},
   "outputs": [
    {
     "name": "stdout",
     "output_type": "stream",
     "text": [
      "Accurracy score of RandomForestClassifier with estimator=90 is 80.48780487804879%\n"
     ]
    }
   ],
   "source": [
    "# let's try with some more classifier with different estimators\n",
    "trees = 90\n",
    "rfc_pred = RandomForestClassifier(n_estimators=trees).fit(X_train, y_train).predict(X_test)\n",
    "score = metrics.accuracy_score(y_test, rfc_pred)*100\n",
    "print(\"Accurracy score of RandomForestClassifier with estimator={} is {}%\".format(trees, score))"
   ]
  },
  {
   "cell_type": "markdown",
   "id": "22ed91d4",
   "metadata": {},
   "source": [
    "***After hyper tunning the n_estimator to value, RandomForestClassifier's accuracy has increased compared to the previous model and infact it is also better than LogisticClassifier.***\n",
    "\n",
    "##### creating confusion matrix"
   ]
  },
  {
   "cell_type": "code",
   "execution_count": 241,
   "id": "9abe2600",
   "metadata": {},
   "outputs": [
    {
     "data": {
      "text/plain": [
       "array([[15, 21],\n",
       "       [ 6, 81]], dtype=int64)"
      ]
     },
     "execution_count": 241,
     "metadata": {},
     "output_type": "execute_result"
    }
   ],
   "source": [
    "metrics.confusion_matrix(y_test, rfc_pred)"
   ]
  },
  {
   "cell_type": "markdown",
   "id": "4c529a75",
   "metadata": {},
   "source": [
    "##### Creating classification report"
   ]
  },
  {
   "cell_type": "code",
   "execution_count": 242,
   "id": "78327c15",
   "metadata": {},
   "outputs": [
    {
     "name": "stdout",
     "output_type": "stream",
     "text": [
      "              precision    recall  f1-score   support\n",
      "\n",
      "           N       0.42      0.71      0.53        21\n",
      "           Y       0.93      0.79      0.86       102\n",
      "\n",
      "    accuracy                           0.78       123\n",
      "   macro avg       0.67      0.75      0.69       123\n",
      "weighted avg       0.84      0.78      0.80       123\n",
      "\n"
     ]
    }
   ],
   "source": [
    "print(metrics.classification_report(rfc_pred, y_test))"
   ]
  },
  {
   "cell_type": "markdown",
   "id": "2a1a8ad3",
   "metadata": {},
   "source": [
    "Classification report of **tunned** RandomForest model depicts that:\n",
    "- Model has made 93% correct positive prediction out of total positive predictions. **Precision**\n",
    "- Model has predicted 79% correct positive relative to total actual positive. **Recall**\n",
    "- f1-score with value 0.86 is quite good considering it much closer to 1.\n",
    "\n",
    "Note : True Positive here stands for Loan_status=Y, which mean loan is approved."
   ]
  },
  {
   "cell_type": "markdown",
   "id": "9816c328",
   "metadata": {},
   "source": [
    "<p style='text-align: center;'>===================================================================================================== </p>"
   ]
  },
  {
   "cell_type": "markdown",
   "id": "cf8ad332",
   "metadata": {},
   "source": [
    "### <p style='text-align: center;'>Question 9. Findings and Conclusion"
   ]
  },
  {
   "cell_type": "markdown",
   "id": "6e83ef84",
   "metadata": {},
   "source": [
    "In the given data set five attributes are numeric. As per the statistic retrieved from the dataframe describe() function, we can say the data is not normally distributed. Nearly aorund 70% people seems to be eligible to get the loan. when we looked at the missing data points, then we found that credit_history and self_employed variable was having the most sparsity (null values), irrespective of applicant_income and property_area. We have used the mode and median for the data imputation. Also, we have used log scale for the loan_amount variable to normalize it as per Gaussian distribution.\n",
    "\n",
    "**Analysis after fitting different classifiers:**\n",
    "\n",
    "* Time taken by the DecisionTreeClassifier to train is the shortest, hence this model can be concluded as fastest during the training.\n",
    "* But as per the accuracy score, DecisionTreeClassifier model is the poorest one compared to Logistic & RandomForest.\n",
    "\n",
    "Logistic : Accuracy=79%, Precision=99%, f1-score=0.87 </br>\n",
    "DecisionTree , A-68% , 82% P, f1-score=0.78 </br>\n",
    "Tunned RandomForest: Accuracy=80.5%, Precision=93%, f1-score=0.86\n",
    "\n",
    "After observing above performance stats, we can conclude that Logistic classifier is a good option but Hypertunned RandomForest model is performing better than the former."
   ]
  }
 ],
 "metadata": {
  "kernelspec": {
   "display_name": "Python 3 (ipykernel)",
   "language": "python",
   "name": "python3"
  },
  "language_info": {
   "codemirror_mode": {
    "name": "ipython",
    "version": 3
   },
   "file_extension": ".py",
   "mimetype": "text/x-python",
   "name": "python",
   "nbconvert_exporter": "python",
   "pygments_lexer": "ipython3",
   "version": "3.9.7"
  }
 },
 "nbformat": 4,
 "nbformat_minor": 5
}
